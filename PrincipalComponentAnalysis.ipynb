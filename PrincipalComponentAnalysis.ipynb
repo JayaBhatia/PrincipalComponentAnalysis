{
 "cells": [
  {
   "cell_type": "code",
   "execution_count": 131,
   "metadata": {},
   "outputs": [],
   "source": [
    "import pandas as pd\n",
    "import numpy as np"
   ]
  },
  {
   "cell_type": "code",
   "execution_count": 132,
   "metadata": {},
   "outputs": [],
   "source": [
    "data = pd.read_csv(\"/Users/HM/Desktop/BAN5753/Exercises/Exercise6/enrollment.csv\")"
   ]
  },
  {
   "cell_type": "code",
   "execution_count": 133,
   "metadata": {},
   "outputs": [
    {
     "data": {
      "text/html": [
       "<div>\n",
       "<style scoped>\n",
       "    .dataframe tbody tr th:only-of-type {\n",
       "        vertical-align: middle;\n",
       "    }\n",
       "\n",
       "    .dataframe tbody tr th {\n",
       "        vertical-align: top;\n",
       "    }\n",
       "\n",
       "    .dataframe thead th {\n",
       "        text-align: right;\n",
       "    }\n",
       "</style>\n",
       "<table border=\"1\" class=\"dataframe\">\n",
       "  <thead>\n",
       "    <tr style=\"text-align: right;\">\n",
       "      <th></th>\n",
       "      <th>avg_income</th>\n",
       "      <th>CAMPUS_VISIT</th>\n",
       "      <th>CONTACT_CODE1</th>\n",
       "      <th>Contact_Date</th>\n",
       "      <th>Contact_Month</th>\n",
       "      <th>Contact_Year</th>\n",
       "      <th>distance</th>\n",
       "      <th>Target</th>\n",
       "      <th>ETHNICITY</th>\n",
       "      <th>hscrat</th>\n",
       "      <th>...</th>\n",
       "      <th>premiere</th>\n",
       "      <th>REFERRAL_CNTCTS</th>\n",
       "      <th>satscore</th>\n",
       "      <th>SELF_INIT_CNTCTS</th>\n",
       "      <th>sex</th>\n",
       "      <th>SOLICITED_CNTCTS</th>\n",
       "      <th>telecq</th>\n",
       "      <th>TERRITORY</th>\n",
       "      <th>TOTAL_CONTACTS</th>\n",
       "      <th>TRAVEL_INIT_CNTCTS</th>\n",
       "    </tr>\n",
       "  </thead>\n",
       "  <tbody>\n",
       "    <tr>\n",
       "      <th>0</th>\n",
       "      <td>NaN</td>\n",
       "      <td>0</td>\n",
       "      <td>EML</td>\n",
       "      <td>1</td>\n",
       "      <td>Sep</td>\n",
       "      <td>2012</td>\n",
       "      <td>NaN</td>\n",
       "      <td>0</td>\n",
       "      <td>NaN</td>\n",
       "      <td>0.037652</td>\n",
       "      <td>...</td>\n",
       "      <td>0</td>\n",
       "      <td>0</td>\n",
       "      <td>NaN</td>\n",
       "      <td>1</td>\n",
       "      <td>1.0</td>\n",
       "      <td>0</td>\n",
       "      <td>NaN</td>\n",
       "      <td>N</td>\n",
       "      <td>1</td>\n",
       "      <td>0</td>\n",
       "    </tr>\n",
       "    <tr>\n",
       "      <th>1</th>\n",
       "      <td>NaN</td>\n",
       "      <td>0</td>\n",
       "      <td>SAT</td>\n",
       "      <td>12</td>\n",
       "      <td>Feb</td>\n",
       "      <td>2014</td>\n",
       "      <td>NaN</td>\n",
       "      <td>0</td>\n",
       "      <td>N</td>\n",
       "      <td>0.037652</td>\n",
       "      <td>...</td>\n",
       "      <td>0</td>\n",
       "      <td>0</td>\n",
       "      <td>NaN</td>\n",
       "      <td>1</td>\n",
       "      <td>1.0</td>\n",
       "      <td>0</td>\n",
       "      <td>NaN</td>\n",
       "      <td>N</td>\n",
       "      <td>1</td>\n",
       "      <td>0</td>\n",
       "    </tr>\n",
       "    <tr>\n",
       "      <th>2</th>\n",
       "      <td>NaN</td>\n",
       "      <td>0</td>\n",
       "      <td>C01</td>\n",
       "      <td>16</td>\n",
       "      <td>Jan</td>\n",
       "      <td>2015</td>\n",
       "      <td>NaN</td>\n",
       "      <td>0</td>\n",
       "      <td>C</td>\n",
       "      <td>0.037652</td>\n",
       "      <td>...</td>\n",
       "      <td>0</td>\n",
       "      <td>0</td>\n",
       "      <td>NaN</td>\n",
       "      <td>0</td>\n",
       "      <td>1.0</td>\n",
       "      <td>1</td>\n",
       "      <td>NaN</td>\n",
       "      <td>N</td>\n",
       "      <td>1</td>\n",
       "      <td>0</td>\n",
       "    </tr>\n",
       "    <tr>\n",
       "      <th>3</th>\n",
       "      <td>NaN</td>\n",
       "      <td>0</td>\n",
       "      <td>EML</td>\n",
       "      <td>11</td>\n",
       "      <td>Mar</td>\n",
       "      <td>2015</td>\n",
       "      <td>NaN</td>\n",
       "      <td>0</td>\n",
       "      <td>NaN</td>\n",
       "      <td>0.037652</td>\n",
       "      <td>...</td>\n",
       "      <td>0</td>\n",
       "      <td>0</td>\n",
       "      <td>NaN</td>\n",
       "      <td>1</td>\n",
       "      <td>0.0</td>\n",
       "      <td>0</td>\n",
       "      <td>NaN</td>\n",
       "      <td>N</td>\n",
       "      <td>1</td>\n",
       "      <td>0</td>\n",
       "    </tr>\n",
       "    <tr>\n",
       "      <th>4</th>\n",
       "      <td>NaN</td>\n",
       "      <td>0</td>\n",
       "      <td>TFL</td>\n",
       "      <td>28</td>\n",
       "      <td>Mar</td>\n",
       "      <td>2015</td>\n",
       "      <td>NaN</td>\n",
       "      <td>0</td>\n",
       "      <td>B</td>\n",
       "      <td>0.037652</td>\n",
       "      <td>...</td>\n",
       "      <td>0</td>\n",
       "      <td>0</td>\n",
       "      <td>1090.0</td>\n",
       "      <td>2</td>\n",
       "      <td>1.0</td>\n",
       "      <td>0</td>\n",
       "      <td>NaN</td>\n",
       "      <td>N</td>\n",
       "      <td>2</td>\n",
       "      <td>0</td>\n",
       "    </tr>\n",
       "  </tbody>\n",
       "</table>\n",
       "<p>5 rows × 29 columns</p>\n",
       "</div>"
      ],
      "text/plain": [
       "   avg_income  CAMPUS_VISIT CONTACT_CODE1  Contact_Date Contact_Month  \\\n",
       "0         NaN             0           EML             1           Sep   \n",
       "1         NaN             0           SAT            12           Feb   \n",
       "2         NaN             0           C01            16           Jan   \n",
       "3         NaN             0           EML            11           Mar   \n",
       "4         NaN             0           TFL            28           Mar   \n",
       "\n",
       "   Contact_Year  distance  Target ETHNICITY    hscrat         ...          \\\n",
       "0          2012       NaN       0       NaN  0.037652         ...           \n",
       "1          2014       NaN       0         N  0.037652         ...           \n",
       "2          2015       NaN       0         C  0.037652         ...           \n",
       "3          2015       NaN       0       NaN  0.037652         ...           \n",
       "4          2015       NaN       0         B  0.037652         ...           \n",
       "\n",
       "   premiere  REFERRAL_CNTCTS satscore  SELF_INIT_CNTCTS  sex  \\\n",
       "0         0                0      NaN                 1  1.0   \n",
       "1         0                0      NaN                 1  1.0   \n",
       "2         0                0      NaN                 0  1.0   \n",
       "3         0                0      NaN                 1  0.0   \n",
       "4         0                0   1090.0                 2  1.0   \n",
       "\n",
       "   SOLICITED_CNTCTS telecq TERRITORY  TOTAL_CONTACTS  TRAVEL_INIT_CNTCTS  \n",
       "0                 0    NaN         N               1                   0  \n",
       "1                 0    NaN         N               1                   0  \n",
       "2                 1    NaN         N               1                   0  \n",
       "3                 0    NaN         N               1                   0  \n",
       "4                 0    NaN         N               2                   0  \n",
       "\n",
       "[5 rows x 29 columns]"
      ]
     },
     "execution_count": 133,
     "metadata": {},
     "output_type": "execute_result"
    }
   ],
   "source": [
    "data.head()"
   ]
  },
  {
   "cell_type": "code",
   "execution_count": 134,
   "metadata": {},
   "outputs": [],
   "source": [
    "data=data.dropna()"
   ]
  },
  {
   "cell_type": "code",
   "execution_count": 135,
   "metadata": {},
   "outputs": [
    {
     "data": {
      "text/plain": [
       "(1701, 29)"
      ]
     },
     "execution_count": 135,
     "metadata": {},
     "output_type": "execute_result"
    }
   ],
   "source": [
    "data.shape"
   ]
  },
  {
   "cell_type": "code",
   "execution_count": 136,
   "metadata": {},
   "outputs": [
    {
     "name": "stdout",
     "output_type": "stream",
     "text": [
      "avg_income            float64\n",
      "CAMPUS_VISIT            int64\n",
      "CONTACT_CODE1          object\n",
      "Contact_Date            int64\n",
      "Contact_Month          object\n",
      "Contact_Year            int64\n",
      "distance              float64\n",
      "Target                  int64\n",
      "ETHNICITY              object\n",
      "hscrat                float64\n",
      "ID                      int64\n",
      "init_span               int64\n",
      "Instate                object\n",
      "int1rat               float64\n",
      "int2rat               float64\n",
      "interest                int64\n",
      "IRSCHOOL               object\n",
      "LEVEL_YEAR             object\n",
      "mailq                   int64\n",
      "premiere                int64\n",
      "REFERRAL_CNTCTS         int64\n",
      "satscore              float64\n",
      "SELF_INIT_CNTCTS        int64\n",
      "sex                   float64\n",
      "SOLICITED_CNTCTS        int64\n",
      "telecq                float64\n",
      "TERRITORY              object\n",
      "TOTAL_CONTACTS          int64\n",
      "TRAVEL_INIT_CNTCTS      int64\n",
      "dtype: object\n"
     ]
    }
   ],
   "source": [
    "print(data.dtypes)"
   ]
  },
  {
   "cell_type": "code",
   "execution_count": 137,
   "metadata": {},
   "outputs": [],
   "source": [
    "df = data.copy(deep=True)"
   ]
  },
  {
   "cell_type": "code",
   "execution_count": 138,
   "metadata": {},
   "outputs": [],
   "source": [
    "df.drop(['IRSCHOOL'],axis=1, inplace=True)"
   ]
  },
  {
   "cell_type": "code",
   "execution_count": 139,
   "metadata": {},
   "outputs": [],
   "source": [
    "df=pd.get_dummies(df,prefix='C_Month',columns=['Contact_Month'],drop_first=True)\n",
    "df=pd.get_dummies(df,prefix='C_Year',columns=['Contact_Year'],drop_first=True)\n",
    "df=pd.get_dummies(df,prefix='ETH',columns=['ETHNICITY'],drop_first=True)\n",
    "df=pd.get_dummies(df,prefix='Insta',columns=['Instate'],drop_first=True)\n",
    "df=pd.get_dummies(df,prefix='TER',columns=['TERRITORY'],drop_first=True)\n",
    "df=pd.get_dummies(df,prefix='C_CODE1',columns=['CONTACT_CODE1'],drop_first=True)\n",
    "df=pd.get_dummies(df,prefix='CDate',columns=['Contact_Date'],drop_first=True)"
   ]
  },
  {
   "cell_type": "code",
   "execution_count": 140,
   "metadata": {},
   "outputs": [
    {
     "name": "stdout",
     "output_type": "stream",
     "text": [
      "Index(['avg_income', 'CAMPUS_VISIT', 'distance', 'Target', 'hscrat', 'ID',\n",
      "       'init_span', 'int1rat', 'int2rat', 'interest',\n",
      "       ...\n",
      "       'CDate_22', 'CDate_23', 'CDate_24', 'CDate_25', 'CDate_26', 'CDate_27',\n",
      "       'CDate_28', 'CDate_29', 'CDate_30', 'CDate_31'],\n",
      "      dtype='object', length=150)\n"
     ]
    }
   ],
   "source": [
    "print(df.columns)"
   ]
  },
  {
   "cell_type": "code",
   "execution_count": 141,
   "metadata": {},
   "outputs": [],
   "source": [
    "df.drop(['ID'],axis=1, inplace=True)"
   ]
  },
  {
   "cell_type": "code",
   "execution_count": 142,
   "metadata": {},
   "outputs": [
    {
     "name": "stdout",
     "output_type": "stream",
     "text": [
      "Index(['avg_income', 'CAMPUS_VISIT', 'distance', 'Target', 'hscrat',\n",
      "       'init_span', 'int1rat', 'int2rat', 'interest', 'LEVEL_YEAR',\n",
      "       ...\n",
      "       'CDate_22', 'CDate_23', 'CDate_24', 'CDate_25', 'CDate_26', 'CDate_27',\n",
      "       'CDate_28', 'CDate_29', 'CDate_30', 'CDate_31'],\n",
      "      dtype='object', length=149)\n"
     ]
    }
   ],
   "source": [
    "print(df.columns)"
   ]
  },
  {
   "cell_type": "code",
   "execution_count": 143,
   "metadata": {},
   "outputs": [],
   "source": [
    "df.drop(['LEVEL_YEAR'],axis=1, inplace=True)"
   ]
  },
  {
   "cell_type": "code",
   "execution_count": 144,
   "metadata": {},
   "outputs": [
    {
     "name": "stdout",
     "output_type": "stream",
     "text": [
      "Index(['avg_income', 'CAMPUS_VISIT', 'distance', 'Target', 'hscrat',\n",
      "       'init_span', 'int1rat', 'int2rat', 'interest', 'mailq',\n",
      "       ...\n",
      "       'CDate_22', 'CDate_23', 'CDate_24', 'CDate_25', 'CDate_26', 'CDate_27',\n",
      "       'CDate_28', 'CDate_29', 'CDate_30', 'CDate_31'],\n",
      "      dtype='object', length=148)\n"
     ]
    }
   ],
   "source": [
    "print(df.columns)"
   ]
  },
  {
   "cell_type": "code",
   "execution_count": 145,
   "metadata": {},
   "outputs": [
    {
     "data": {
      "text/plain": [
       "(1701, 148)"
      ]
     },
     "execution_count": 145,
     "metadata": {},
     "output_type": "execute_result"
    }
   ],
   "source": [
    "df.shape"
   ]
  },
  {
   "cell_type": "code",
   "execution_count": 146,
   "metadata": {},
   "outputs": [],
   "source": [
    "from sklearn.linear_model import LogisticRegression\n",
    "from sklearn.model_selection import train_test_split"
   ]
  },
  {
   "cell_type": "code",
   "execution_count": 147,
   "metadata": {},
   "outputs": [],
   "source": [
    "#Logistic Regression Function\n",
    "def lr(df_x, df_y):\n",
    " \n",
    "    logistic_regression_model = LogisticRegression(random_state=12345)\n",
    "    logistic_regression_model.fit(df_x, df_y)\n",
    "    return logistic_regression_model"
   ]
  },
  {
   "cell_type": "code",
   "execution_count": 148,
   "metadata": {},
   "outputs": [],
   "source": [
    "#Accuracy Function\n",
    "def accuracy(trained_model, features, targets):\n",
    "    accuracy_score = trained_model.score(features, targets)\n",
    "    return accuracy_score"
   ]
  },
  {
   "cell_type": "code",
   "execution_count": 149,
   "metadata": {},
   "outputs": [],
   "source": [
    "#DataPartition\n",
    "df_x_train, df_x_val, df_y_train, df_y_val= train_test_split(df[df.columns[~df.columns.isin(['Target'])]],\n",
    "                                                df['Target'],test_size=0.30, random_state=12345)"
   ]
  },
  {
   "cell_type": "code",
   "execution_count": 150,
   "metadata": {},
   "outputs": [
    {
     "name": "stderr",
     "output_type": "stream",
     "text": [
      "/Users/HM/anaconda3/lib/python3.7/site-packages/sklearn/linear_model/logistic.py:433: FutureWarning: Default solver will be changed to 'lbfgs' in 0.22. Specify a solver to silence this warning.\n",
      "  FutureWarning)\n"
     ]
    }
   ],
   "source": [
    "lr1 = lr(df_x_train, df_y_train)"
   ]
  },
  {
   "cell_type": "code",
   "execution_count": 151,
   "metadata": {},
   "outputs": [],
   "source": [
    "acc1_train=accuracy(lr1,df_x_train,df_y_train)"
   ]
  },
  {
   "cell_type": "code",
   "execution_count": 152,
   "metadata": {},
   "outputs": [
    {
     "data": {
      "text/plain": [
       "0.8789915966386554"
      ]
     },
     "execution_count": 152,
     "metadata": {},
     "output_type": "execute_result"
    }
   ],
   "source": [
    "acc1_train"
   ]
  },
  {
   "cell_type": "code",
   "execution_count": 153,
   "metadata": {},
   "outputs": [],
   "source": [
    "acc1_val=accuracy(lr1,df_x_val,df_y_val)"
   ]
  },
  {
   "cell_type": "code",
   "execution_count": 154,
   "metadata": {},
   "outputs": [
    {
     "data": {
      "text/plain": [
       "0.8767123287671232"
      ]
     },
     "execution_count": 154,
     "metadata": {},
     "output_type": "execute_result"
    }
   ],
   "source": [
    "acc1_val"
   ]
  },
  {
   "cell_type": "code",
   "execution_count": 155,
   "metadata": {},
   "outputs": [],
   "source": [
    "#Ques2"
   ]
  },
  {
   "cell_type": "code",
   "execution_count": 156,
   "metadata": {},
   "outputs": [],
   "source": [
    "df_pca=data.copy(deep=True)"
   ]
  },
  {
   "cell_type": "code",
   "execution_count": 157,
   "metadata": {},
   "outputs": [],
   "source": [
    "df_pca_x=df_pca.copy(deep=True)"
   ]
  },
  {
   "cell_type": "code",
   "execution_count": 158,
   "metadata": {},
   "outputs": [],
   "source": [
    "df_pca_x.drop(['CONTACT_CODE1','Contact_Date','Contact_Month','Contact_Year','Target','ETHNICITY','TERRITORY','interest','IRSCHOOL','LEVEL_YEAR','ID'],axis=1,inplace=True)"
   ]
  },
  {
   "cell_type": "code",
   "execution_count": 159,
   "metadata": {},
   "outputs": [
    {
     "data": {
      "text/plain": [
       "(1701, 18)"
      ]
     },
     "execution_count": 159,
     "metadata": {},
     "output_type": "execute_result"
    }
   ],
   "source": [
    "df_pca_x.shape"
   ]
  },
  {
   "cell_type": "code",
   "execution_count": 160,
   "metadata": {},
   "outputs": [],
   "source": [
    "df_pca_x=pd.get_dummies(df_pca_x,prefix='Insta',columns=['Instate'],drop_first=True)\n"
   ]
  },
  {
   "cell_type": "code",
   "execution_count": 161,
   "metadata": {},
   "outputs": [],
   "source": [
    "df_pca_y=df_pca.Target.copy(deep=True)"
   ]
  },
  {
   "cell_type": "code",
   "execution_count": 162,
   "metadata": {},
   "outputs": [
    {
     "name": "stderr",
     "output_type": "stream",
     "text": [
      "/Users/HM/anaconda3/lib/python3.7/site-packages/sklearn/preprocessing/data.py:625: DataConversionWarning: Data with input dtype uint8, int64, float64 were all converted to float64 by StandardScaler.\n",
      "  return self.partial_fit(X, y)\n",
      "/Users/HM/anaconda3/lib/python3.7/site-packages/sklearn/base.py:462: DataConversionWarning: Data with input dtype uint8, int64, float64 were all converted to float64 by StandardScaler.\n",
      "  return self.fit(X, **fit_params).transform(X)\n"
     ]
    }
   ],
   "source": [
    "#Scaling\n",
    "from sklearn.preprocessing import StandardScaler\n",
    "ss=StandardScaler()\n",
    "df_pca_x_scaled=ss.fit_transform(df_pca_x)"
   ]
  },
  {
   "cell_type": "code",
   "execution_count": 163,
   "metadata": {},
   "outputs": [],
   "source": [
    "#PCA\n",
    "from sklearn.decomposition import PCA\n",
    "pca=PCA(n_components=None)\n",
    "df_pca_xcomp=pca.fit_transform(df_pca_x_scaled)\n",
    "CumulativeVariance=pca.explained_variance_ratio_\n",
    "EigenValues=pca.explained_variance_"
   ]
  },
  {
   "cell_type": "code",
   "execution_count": 164,
   "metadata": {},
   "outputs": [],
   "source": [
    "CumulativeVarianceDataFrame=pd.DataFrame(CumulativeVariance)\n",
    "EigenValuesDataFrame=pd.DataFrame(EigenValues)"
   ]
  },
  {
   "cell_type": "code",
   "execution_count": 165,
   "metadata": {},
   "outputs": [
    {
     "data": {
      "text/html": [
       "<div>\n",
       "<style scoped>\n",
       "    .dataframe tbody tr th:only-of-type {\n",
       "        vertical-align: middle;\n",
       "    }\n",
       "\n",
       "    .dataframe tbody tr th {\n",
       "        vertical-align: top;\n",
       "    }\n",
       "\n",
       "    .dataframe thead th {\n",
       "        text-align: right;\n",
       "    }\n",
       "</style>\n",
       "<table border=\"1\" class=\"dataframe\">\n",
       "  <thead>\n",
       "    <tr style=\"text-align: right;\">\n",
       "      <th></th>\n",
       "      <th>0</th>\n",
       "    </tr>\n",
       "  </thead>\n",
       "  <tbody>\n",
       "    <tr>\n",
       "      <th>0</th>\n",
       "      <td>3.054747</td>\n",
       "    </tr>\n",
       "    <tr>\n",
       "      <th>1</th>\n",
       "      <td>2.321766</td>\n",
       "    </tr>\n",
       "    <tr>\n",
       "      <th>2</th>\n",
       "      <td>1.373664</td>\n",
       "    </tr>\n",
       "    <tr>\n",
       "      <th>3</th>\n",
       "      <td>1.304749</td>\n",
       "    </tr>\n",
       "    <tr>\n",
       "      <th>4</th>\n",
       "      <td>1.208865</td>\n",
       "    </tr>\n",
       "    <tr>\n",
       "      <th>5</th>\n",
       "      <td>1.125699</td>\n",
       "    </tr>\n",
       "    <tr>\n",
       "      <th>6</th>\n",
       "      <td>1.016190</td>\n",
       "    </tr>\n",
       "    <tr>\n",
       "      <th>7</th>\n",
       "      <td>0.944874</td>\n",
       "    </tr>\n",
       "    <tr>\n",
       "      <th>8</th>\n",
       "      <td>0.910986</td>\n",
       "    </tr>\n",
       "    <tr>\n",
       "      <th>9</th>\n",
       "      <td>0.893245</td>\n",
       "    </tr>\n",
       "    <tr>\n",
       "      <th>10</th>\n",
       "      <td>0.860604</td>\n",
       "    </tr>\n",
       "    <tr>\n",
       "      <th>11</th>\n",
       "      <td>0.685070</td>\n",
       "    </tr>\n",
       "    <tr>\n",
       "      <th>12</th>\n",
       "      <td>0.624317</td>\n",
       "    </tr>\n",
       "    <tr>\n",
       "      <th>13</th>\n",
       "      <td>0.585247</td>\n",
       "    </tr>\n",
       "    <tr>\n",
       "      <th>14</th>\n",
       "      <td>0.477078</td>\n",
       "    </tr>\n",
       "  </tbody>\n",
       "</table>\n",
       "</div>"
      ],
      "text/plain": [
       "           0\n",
       "0   3.054747\n",
       "1   2.321766\n",
       "2   1.373664\n",
       "3   1.304749\n",
       "4   1.208865\n",
       "5   1.125699\n",
       "6   1.016190\n",
       "7   0.944874\n",
       "8   0.910986\n",
       "9   0.893245\n",
       "10  0.860604\n",
       "11  0.685070\n",
       "12  0.624317\n",
       "13  0.585247\n",
       "14  0.477078"
      ]
     },
     "execution_count": 165,
     "metadata": {},
     "output_type": "execute_result"
    }
   ],
   "source": [
    "EigenValuesDataFrame.head(15)"
   ]
  },
  {
   "cell_type": "code",
   "execution_count": 166,
   "metadata": {},
   "outputs": [
    {
     "data": {
      "text/html": [
       "<div>\n",
       "<style scoped>\n",
       "    .dataframe tbody tr th:only-of-type {\n",
       "        vertical-align: middle;\n",
       "    }\n",
       "\n",
       "    .dataframe tbody tr th {\n",
       "        vertical-align: top;\n",
       "    }\n",
       "\n",
       "    .dataframe thead th {\n",
       "        text-align: right;\n",
       "    }\n",
       "</style>\n",
       "<table border=\"1\" class=\"dataframe\">\n",
       "  <thead>\n",
       "    <tr style=\"text-align: right;\">\n",
       "      <th></th>\n",
       "      <th>0</th>\n",
       "    </tr>\n",
       "  </thead>\n",
       "  <tbody>\n",
       "    <tr>\n",
       "      <th>0</th>\n",
       "      <td>0.169608</td>\n",
       "    </tr>\n",
       "    <tr>\n",
       "      <th>1</th>\n",
       "      <td>0.128911</td>\n",
       "    </tr>\n",
       "    <tr>\n",
       "      <th>2</th>\n",
       "      <td>0.076270</td>\n",
       "    </tr>\n",
       "    <tr>\n",
       "      <th>3</th>\n",
       "      <td>0.072443</td>\n",
       "    </tr>\n",
       "    <tr>\n",
       "      <th>4</th>\n",
       "      <td>0.067120</td>\n",
       "    </tr>\n",
       "    <tr>\n",
       "      <th>5</th>\n",
       "      <td>0.062502</td>\n",
       "    </tr>\n",
       "    <tr>\n",
       "      <th>6</th>\n",
       "      <td>0.056422</td>\n",
       "    </tr>\n",
       "    <tr>\n",
       "      <th>7</th>\n",
       "      <td>0.052462</td>\n",
       "    </tr>\n",
       "    <tr>\n",
       "      <th>8</th>\n",
       "      <td>0.050581</td>\n",
       "    </tr>\n",
       "    <tr>\n",
       "      <th>9</th>\n",
       "      <td>0.049596</td>\n",
       "    </tr>\n",
       "    <tr>\n",
       "      <th>10</th>\n",
       "      <td>0.047783</td>\n",
       "    </tr>\n",
       "    <tr>\n",
       "      <th>11</th>\n",
       "      <td>0.038037</td>\n",
       "    </tr>\n",
       "    <tr>\n",
       "      <th>12</th>\n",
       "      <td>0.034664</td>\n",
       "    </tr>\n",
       "    <tr>\n",
       "      <th>13</th>\n",
       "      <td>0.032495</td>\n",
       "    </tr>\n",
       "    <tr>\n",
       "      <th>14</th>\n",
       "      <td>0.026489</td>\n",
       "    </tr>\n",
       "  </tbody>\n",
       "</table>\n",
       "</div>"
      ],
      "text/plain": [
       "           0\n",
       "0   0.169608\n",
       "1   0.128911\n",
       "2   0.076270\n",
       "3   0.072443\n",
       "4   0.067120\n",
       "5   0.062502\n",
       "6   0.056422\n",
       "7   0.052462\n",
       "8   0.050581\n",
       "9   0.049596\n",
       "10  0.047783\n",
       "11  0.038037\n",
       "12  0.034664\n",
       "13  0.032495\n",
       "14  0.026489"
      ]
     },
     "execution_count": 166,
     "metadata": {},
     "output_type": "execute_result"
    }
   ],
   "source": [
    "CumulativeVarianceDataFrame.head(15)"
   ]
  },
  {
   "cell_type": "code",
   "execution_count": 167,
   "metadata": {},
   "outputs": [],
   "source": [
    "EV=np.round(EigenValuesDataFrame, decimals=3)"
   ]
  },
  {
   "cell_type": "code",
   "execution_count": 168,
   "metadata": {},
   "outputs": [],
   "source": [
    "%matplotlib inline"
   ]
  },
  {
   "cell_type": "code",
   "execution_count": 169,
   "metadata": {},
   "outputs": [
    {
     "data": {
      "image/png": "[encoded data removed]",
      "text/plain": [
       "<Figure size 432x288 with 1 Axes>"
      ]
     },
     "metadata": {
      "needs_background": "light"
     },
     "output_type": "display_data"
    },
    {
     "data": {
      "text/plain": [
       "<Figure size 720x576 with 0 Axes>"
      ]
     },
     "metadata": {},
     "output_type": "display_data"
    }
   ],
   "source": [
    "import matplotlib.pyplot as plt\n",
    "plt.plot(EV)\n",
    "plt.ylabel('Eigen_Values')\n",
    "plt.xlabel('PCs')\n",
    "plt.title('PCA')\n",
    "plt.ylim(0,3.055)\n",
    "plt.style.context('seaborn-whitegrid')\n",
    "plt.figure(figsize=(10,8));"
   ]
  },
  {
   "cell_type": "code",
   "execution_count": null,
   "metadata": {},
   "outputs": [],
   "source": []
  },
  {
   "cell_type": "code",
   "execution_count": 170,
   "metadata": {},
   "outputs": [],
   "source": [
    "df_pca_x9comp=pd.DataFrame(df_pca_xcomp[:, :6])"
   ]
  },
  {
   "cell_type": "code",
   "execution_count": 171,
   "metadata": {},
   "outputs": [
    {
     "data": {
      "text/html": [
       "<div>\n",
       "<style scoped>\n",
       "    .dataframe tbody tr th:only-of-type {\n",
       "        vertical-align: middle;\n",
       "    }\n",
       "\n",
       "    .dataframe tbody tr th {\n",
       "        vertical-align: top;\n",
       "    }\n",
       "\n",
       "    .dataframe thead th {\n",
       "        text-align: right;\n",
       "    }\n",
       "</style>\n",
       "<table border=\"1\" class=\"dataframe\">\n",
       "  <thead>\n",
       "    <tr style=\"text-align: right;\">\n",
       "      <th></th>\n",
       "      <th>0</th>\n",
       "      <th>1</th>\n",
       "      <th>2</th>\n",
       "      <th>3</th>\n",
       "      <th>4</th>\n",
       "      <th>5</th>\n",
       "    </tr>\n",
       "  </thead>\n",
       "  <tbody>\n",
       "    <tr>\n",
       "      <th>0</th>\n",
       "      <td>-2.544097</td>\n",
       "      <td>6.961730</td>\n",
       "      <td>-0.728693</td>\n",
       "      <td>1.575681</td>\n",
       "      <td>1.803301</td>\n",
       "      <td>0.455360</td>\n",
       "    </tr>\n",
       "    <tr>\n",
       "      <th>1</th>\n",
       "      <td>0.570534</td>\n",
       "      <td>4.441561</td>\n",
       "      <td>0.041031</td>\n",
       "      <td>2.090079</td>\n",
       "      <td>-0.475716</td>\n",
       "      <td>0.754291</td>\n",
       "    </tr>\n",
       "    <tr>\n",
       "      <th>2</th>\n",
       "      <td>-3.491093</td>\n",
       "      <td>4.773035</td>\n",
       "      <td>-0.253470</td>\n",
       "      <td>0.699740</td>\n",
       "      <td>-1.630159</td>\n",
       "      <td>-0.332043</td>\n",
       "    </tr>\n",
       "    <tr>\n",
       "      <th>3</th>\n",
       "      <td>-0.950742</td>\n",
       "      <td>7.124113</td>\n",
       "      <td>0.127654</td>\n",
       "      <td>1.001906</td>\n",
       "      <td>-0.170634</td>\n",
       "      <td>2.154710</td>\n",
       "    </tr>\n",
       "    <tr>\n",
       "      <th>4</th>\n",
       "      <td>-0.160667</td>\n",
       "      <td>5.011619</td>\n",
       "      <td>0.086328</td>\n",
       "      <td>-0.271832</td>\n",
       "      <td>1.019800</td>\n",
       "      <td>-2.315004</td>\n",
       "    </tr>\n",
       "  </tbody>\n",
       "</table>\n",
       "</div>"
      ],
      "text/plain": [
       "          0         1         2         3         4         5\n",
       "0 -2.544097  6.961730 -0.728693  1.575681  1.803301  0.455360\n",
       "1  0.570534  4.441561  0.041031  2.090079 -0.475716  0.754291\n",
       "2 -3.491093  4.773035 -0.253470  0.699740 -1.630159 -0.332043\n",
       "3 -0.950742  7.124113  0.127654  1.001906 -0.170634  2.154710\n",
       "4 -0.160667  5.011619  0.086328 -0.271832  1.019800 -2.315004"
      ]
     },
     "execution_count": 171,
     "metadata": {},
     "output_type": "execute_result"
    }
   ],
   "source": [
    "df_pca_x9comp.head()"
   ]
  },
  {
   "cell_type": "code",
   "execution_count": 172,
   "metadata": {},
   "outputs": [],
   "source": [
    "df_pca_x9comp.rename(columns={0: 'PCA1'}, inplace=True)\n",
    "df_pca_x9comp.rename(columns={1: 'PCA2'}, inplace=True)\n",
    "df_pca_x9comp.rename(columns={2: 'PCA3'}, inplace=True)\n",
    "df_pca_x9comp.rename(columns={3: 'PCA4'}, inplace=True)\n",
    "df_pca_x9comp.rename(columns={4: 'PCA5'}, inplace=True)\n",
    "df_pca_x9comp.rename(columns={5: 'PCA6'}, inplace=True)\n",
    "df_pca_x9comp.rename(columns={6: 'PCA7'}, inplace=True)\n",
    "df_pca_x9comp.rename(columns={7: 'PCA8'}, inplace=True)\n",
    "df_pca_x9comp.rename(columns={8: 'PCA9'}, inplace=True)"
   ]
  },
  {
   "cell_type": "code",
   "execution_count": 173,
   "metadata": {},
   "outputs": [],
   "source": [
    "lr_x = pd.concat([df_pca_x9comp.reset_index(drop=True), df_pca.reset_index(drop=True)], axis=1)"
   ]
  },
  {
   "cell_type": "code",
   "execution_count": 174,
   "metadata": {},
   "outputs": [],
   "source": [
    "#lr_y=lr_x.Target.copy(deep=True)"
   ]
  },
  {
   "cell_type": "code",
   "execution_count": 175,
   "metadata": {},
   "outputs": [],
   "source": [
    "lr_x.drop(['avg_income', 'CAMPUS_VISIT','distance','hscrat','init_span','Instate','int1rat', 'int2rat','mailq','premiere', 'REFERRAL_CNTCTS', 'satscore', 'SELF_INIT_CNTCTS', 'sex','SOLICITED_CNTCTS','telecq','TOTAL_CONTACTS','TRAVEL_INIT_CNTCTS','LEVEL_YEAR','ID','IRSCHOOL'],axis=1,inplace=True)"
   ]
  },
  {
   "cell_type": "code",
   "execution_count": 176,
   "metadata": {},
   "outputs": [
    {
     "data": {
      "text/html": [
       "<div>\n",
       "<style scoped>\n",
       "    .dataframe tbody tr th:only-of-type {\n",
       "        vertical-align: middle;\n",
       "    }\n",
       "\n",
       "    .dataframe tbody tr th {\n",
       "        vertical-align: top;\n",
       "    }\n",
       "\n",
       "    .dataframe thead th {\n",
       "        text-align: right;\n",
       "    }\n",
       "</style>\n",
       "<table border=\"1\" class=\"dataframe\">\n",
       "  <thead>\n",
       "    <tr style=\"text-align: right;\">\n",
       "      <th></th>\n",
       "      <th>PCA1</th>\n",
       "      <th>PCA2</th>\n",
       "      <th>PCA3</th>\n",
       "      <th>PCA4</th>\n",
       "      <th>PCA5</th>\n",
       "      <th>PCA6</th>\n",
       "      <th>CONTACT_CODE1</th>\n",
       "      <th>Contact_Date</th>\n",
       "      <th>Contact_Month</th>\n",
       "      <th>Contact_Year</th>\n",
       "      <th>Target</th>\n",
       "      <th>ETHNICITY</th>\n",
       "      <th>interest</th>\n",
       "      <th>TERRITORY</th>\n",
       "    </tr>\n",
       "  </thead>\n",
       "  <tbody>\n",
       "    <tr>\n",
       "      <th>0</th>\n",
       "      <td>-2.544097</td>\n",
       "      <td>6.961730</td>\n",
       "      <td>-0.728693</td>\n",
       "      <td>1.575681</td>\n",
       "      <td>1.803301</td>\n",
       "      <td>0.455360</td>\n",
       "      <td>LMI</td>\n",
       "      <td>5</td>\n",
       "      <td>Aug</td>\n",
       "      <td>2015</td>\n",
       "      <td>1</td>\n",
       "      <td>C</td>\n",
       "      <td>0</td>\n",
       "      <td>5</td>\n",
       "    </tr>\n",
       "    <tr>\n",
       "      <th>1</th>\n",
       "      <td>0.570534</td>\n",
       "      <td>4.441561</td>\n",
       "      <td>0.041031</td>\n",
       "      <td>2.090079</td>\n",
       "      <td>-0.475716</td>\n",
       "      <td>0.754291</td>\n",
       "      <td>PHN</td>\n",
       "      <td>12</td>\n",
       "      <td>Feb</td>\n",
       "      <td>2015</td>\n",
       "      <td>1</td>\n",
       "      <td>C</td>\n",
       "      <td>2</td>\n",
       "      <td>5</td>\n",
       "    </tr>\n",
       "    <tr>\n",
       "      <th>2</th>\n",
       "      <td>-3.491093</td>\n",
       "      <td>4.773035</td>\n",
       "      <td>-0.253470</td>\n",
       "      <td>0.699740</td>\n",
       "      <td>-1.630159</td>\n",
       "      <td>-0.332043</td>\n",
       "      <td>SAT</td>\n",
       "      <td>27</td>\n",
       "      <td>Oct</td>\n",
       "      <td>2015</td>\n",
       "      <td>1</td>\n",
       "      <td>O</td>\n",
       "      <td>0</td>\n",
       "      <td>5</td>\n",
       "    </tr>\n",
       "    <tr>\n",
       "      <th>3</th>\n",
       "      <td>-0.950742</td>\n",
       "      <td>7.124113</td>\n",
       "      <td>0.127654</td>\n",
       "      <td>1.001906</td>\n",
       "      <td>-0.170634</td>\n",
       "      <td>2.154710</td>\n",
       "      <td>LMI</td>\n",
       "      <td>23</td>\n",
       "      <td>Jul</td>\n",
       "      <td>2015</td>\n",
       "      <td>1</td>\n",
       "      <td>C</td>\n",
       "      <td>1</td>\n",
       "      <td>5</td>\n",
       "    </tr>\n",
       "    <tr>\n",
       "      <th>4</th>\n",
       "      <td>-0.160667</td>\n",
       "      <td>5.011619</td>\n",
       "      <td>0.086328</td>\n",
       "      <td>-0.271832</td>\n",
       "      <td>1.019800</td>\n",
       "      <td>-2.315004</td>\n",
       "      <td>EML</td>\n",
       "      <td>8</td>\n",
       "      <td>Jan</td>\n",
       "      <td>2014</td>\n",
       "      <td>1</td>\n",
       "      <td>C</td>\n",
       "      <td>0</td>\n",
       "      <td>5</td>\n",
       "    </tr>\n",
       "  </tbody>\n",
       "</table>\n",
       "</div>"
      ],
      "text/plain": [
       "       PCA1      PCA2      PCA3      PCA4      PCA5      PCA6 CONTACT_CODE1  \\\n",
       "0 -2.544097  6.961730 -0.728693  1.575681  1.803301  0.455360           LMI   \n",
       "1  0.570534  4.441561  0.041031  2.090079 -0.475716  0.754291           PHN   \n",
       "2 -3.491093  4.773035 -0.253470  0.699740 -1.630159 -0.332043           SAT   \n",
       "3 -0.950742  7.124113  0.127654  1.001906 -0.170634  2.154710           LMI   \n",
       "4 -0.160667  5.011619  0.086328 -0.271832  1.019800 -2.315004           EML   \n",
       "\n",
       "   Contact_Date Contact_Month  Contact_Year  Target ETHNICITY  interest  \\\n",
       "0             5           Aug          2015       1         C         0   \n",
       "1            12           Feb          2015       1         C         2   \n",
       "2            27           Oct          2015       1         O         0   \n",
       "3            23           Jul          2015       1         C         1   \n",
       "4             8           Jan          2014       1         C         0   \n",
       "\n",
       "  TERRITORY  \n",
       "0         5  \n",
       "1         5  \n",
       "2         5  \n",
       "3         5  \n",
       "4         5  "
      ]
     },
     "execution_count": 176,
     "metadata": {},
     "output_type": "execute_result"
    }
   ],
   "source": [
    "lr_x.head()"
   ]
  },
  {
   "cell_type": "code",
   "execution_count": 177,
   "metadata": {},
   "outputs": [],
   "source": [
    "lr_x=pd.get_dummies(lr_x,prefix='C_Month',columns=['Contact_Month'],drop_first=True)\n",
    "lr_x=pd.get_dummies(lr_x,prefix='C_Year',columns=['Contact_Year'],drop_first=True)\n",
    "lr_x=pd.get_dummies(lr_x,prefix='ETH',columns=['ETHNICITY'],drop_first=True)\n",
    "lr_x=pd.get_dummies(lr_x,prefix='TER',columns=['TERRITORY'],drop_first=True)\n",
    "lr_x=pd.get_dummies(lr_x,prefix='C_CODE1',columns=['CONTACT_CODE1'],drop_first=True)\n",
    "#lr_x=pd.get_dummies(lr_x,prefix='IRSC',columns=['IRSCHOOL'],drop_first=True)\n",
    "lr_x=pd.get_dummies(lr_x,prefix='CDate',columns=['Contact_Date'],drop_first=True)"
   ]
  },
  {
   "cell_type": "code",
   "execution_count": 178,
   "metadata": {},
   "outputs": [],
   "source": [
    "#DataPartition\n",
    "df_x_train_pca, df_x_val_pca, df_y_train_pca, df_y_val_pca= train_test_split(lr_x[lr_x.columns[~lr_x.columns.isin(['Target'])]],\n",
    "                                                lr_x['Target'],test_size=0.30, random_state=12345)"
   ]
  },
  {
   "cell_type": "code",
   "execution_count": 179,
   "metadata": {},
   "outputs": [
    {
     "name": "stderr",
     "output_type": "stream",
     "text": [
      "/Users/HM/anaconda3/lib/python3.7/site-packages/sklearn/linear_model/logistic.py:433: FutureWarning: Default solver will be changed to 'lbfgs' in 0.22. Specify a solver to silence this warning.\n",
      "  FutureWarning)\n"
     ]
    }
   ],
   "source": [
    "lr_2 = lr(df_x_train_pca, df_y_train_pca)"
   ]
  },
  {
   "cell_type": "code",
   "execution_count": 180,
   "metadata": {},
   "outputs": [],
   "source": [
    "acc2_train=accuracy(lr_2,df_x_train_pca,df_y_train_pca)"
   ]
  },
  {
   "cell_type": "code",
   "execution_count": 181,
   "metadata": {},
   "outputs": [
    {
     "data": {
      "text/plain": [
       "0.9168067226890756"
      ]
     },
     "execution_count": 181,
     "metadata": {},
     "output_type": "execute_result"
    }
   ],
   "source": [
    "acc2_train"
   ]
  },
  {
   "cell_type": "code",
   "execution_count": 182,
   "metadata": {},
   "outputs": [],
   "source": [
    "acc2_val=accuracy(lr_2,df_x_val_pca,df_y_val_pca)"
   ]
  },
  {
   "cell_type": "code",
   "execution_count": 183,
   "metadata": {},
   "outputs": [
    {
     "data": {
      "text/plain": [
       "0.9099804305283757"
      ]
     },
     "execution_count": 183,
     "metadata": {},
     "output_type": "execute_result"
    }
   ],
   "source": [
    "acc2_val"
   ]
  },
  {
   "cell_type": "code",
   "execution_count": 184,
   "metadata": {},
   "outputs": [],
   "source": [
    "#Ques3"
   ]
  },
  {
   "cell_type": "code",
   "execution_count": 185,
   "metadata": {},
   "outputs": [
    {
     "data": {
      "text/plain": [
       "<varclushi.varclushi.VarClusHi at 0x1a1f886a90>"
      ]
     },
     "execution_count": 185,
     "metadata": {},
     "output_type": "execute_result"
    }
   ],
   "source": [
    "from varclushi import VarClusHi\n",
    "vc = VarClusHi(df_pca_x,maxeigval2=1,maxclus=None)\n",
    "vc.varclus()"
   ]
  },
  {
   "cell_type": "code",
   "execution_count": 186,
   "metadata": {},
   "outputs": [
    {
     "data": {
      "text/html": [
       "<div>\n",
       "<style scoped>\n",
       "    .dataframe tbody tr th:only-of-type {\n",
       "        vertical-align: middle;\n",
       "    }\n",
       "\n",
       "    .dataframe tbody tr th {\n",
       "        vertical-align: top;\n",
       "    }\n",
       "\n",
       "    .dataframe thead th {\n",
       "        text-align: right;\n",
       "    }\n",
       "</style>\n",
       "<table border=\"1\" class=\"dataframe\">\n",
       "  <thead>\n",
       "    <tr style=\"text-align: right;\">\n",
       "      <th></th>\n",
       "      <th>Cluster</th>\n",
       "      <th>N_Vars</th>\n",
       "      <th>Eigval1</th>\n",
       "      <th>Eigval2</th>\n",
       "      <th>VarProp</th>\n",
       "    </tr>\n",
       "  </thead>\n",
       "  <tbody>\n",
       "    <tr>\n",
       "      <th>0</th>\n",
       "      <td>0</td>\n",
       "      <td>5</td>\n",
       "      <td>2.374926</td>\n",
       "      <td>0.987650</td>\n",
       "      <td>0.474985</td>\n",
       "    </tr>\n",
       "    <tr>\n",
       "      <th>1</th>\n",
       "      <td>1</td>\n",
       "      <td>4</td>\n",
       "      <td>2.110315</td>\n",
       "      <td>0.984445</td>\n",
       "      <td>0.527579</td>\n",
       "    </tr>\n",
       "    <tr>\n",
       "      <th>2</th>\n",
       "      <td>2</td>\n",
       "      <td>3</td>\n",
       "      <td>1.679487</td>\n",
       "      <td>0.820497</td>\n",
       "      <td>0.559829</td>\n",
       "    </tr>\n",
       "    <tr>\n",
       "      <th>3</th>\n",
       "      <td>3</td>\n",
       "      <td>3</td>\n",
       "      <td>1.242258</td>\n",
       "      <td>0.987112</td>\n",
       "      <td>0.414086</td>\n",
       "    </tr>\n",
       "    <tr>\n",
       "      <th>4</th>\n",
       "      <td>4</td>\n",
       "      <td>3</td>\n",
       "      <td>1.125499</td>\n",
       "      <td>0.997061</td>\n",
       "      <td>0.375166</td>\n",
       "    </tr>\n",
       "  </tbody>\n",
       "</table>\n",
       "</div>"
      ],
      "text/plain": [
       "  Cluster N_Vars   Eigval1   Eigval2   VarProp\n",
       "0       0      5  2.374926  0.987650  0.474985\n",
       "1       1      4  2.110315  0.984445  0.527579\n",
       "2       2      3  1.679487  0.820497  0.559829\n",
       "3       3      3  1.242258  0.987112  0.414086\n",
       "4       4      3  1.125499  0.997061  0.375166"
      ]
     },
     "execution_count": 186,
     "metadata": {},
     "output_type": "execute_result"
    }
   ],
   "source": [
    "vc.info"
   ]
  },
  {
   "cell_type": "code",
   "execution_count": 187,
   "metadata": {},
   "outputs": [
    {
     "data": {
      "text/html": [
       "<div>\n",
       "<style scoped>\n",
       "    .dataframe tbody tr th:only-of-type {\n",
       "        vertical-align: middle;\n",
       "    }\n",
       "\n",
       "    .dataframe tbody tr th {\n",
       "        vertical-align: top;\n",
       "    }\n",
       "\n",
       "    .dataframe thead th {\n",
       "        text-align: right;\n",
       "    }\n",
       "</style>\n",
       "<table border=\"1\" class=\"dataframe\">\n",
       "  <thead>\n",
       "    <tr style=\"text-align: right;\">\n",
       "      <th></th>\n",
       "      <th>Cluster</th>\n",
       "      <th>Variable</th>\n",
       "      <th>RS_Own</th>\n",
       "      <th>RS_NC</th>\n",
       "      <th>RS_Ratio</th>\n",
       "    </tr>\n",
       "  </thead>\n",
       "  <tbody>\n",
       "    <tr>\n",
       "      <th>0</th>\n",
       "      <td>0</td>\n",
       "      <td>premiere</td>\n",
       "      <td>0.508033</td>\n",
       "      <td>0.020367</td>\n",
       "      <td>0.502195</td>\n",
       "    </tr>\n",
       "    <tr>\n",
       "      <th>1</th>\n",
       "      <td>0</td>\n",
       "      <td>REFERRAL_CNTCTS</td>\n",
       "      <td>0.045358</td>\n",
       "      <td>0.009347</td>\n",
       "      <td>0.963649</td>\n",
       "    </tr>\n",
       "    <tr>\n",
       "      <th>2</th>\n",
       "      <td>0</td>\n",
       "      <td>SELF_INIT_CNTCTS</td>\n",
       "      <td>0.873615</td>\n",
       "      <td>0.067726</td>\n",
       "      <td>0.135566</td>\n",
       "    </tr>\n",
       "    <tr>\n",
       "      <th>3</th>\n",
       "      <td>0</td>\n",
       "      <td>telecq</td>\n",
       "      <td>0.067003</td>\n",
       "      <td>0.000839</td>\n",
       "      <td>0.933781</td>\n",
       "    </tr>\n",
       "    <tr>\n",
       "      <th>4</th>\n",
       "      <td>0</td>\n",
       "      <td>TOTAL_CONTACTS</td>\n",
       "      <td>0.880917</td>\n",
       "      <td>0.208829</td>\n",
       "      <td>0.150515</td>\n",
       "    </tr>\n",
       "    <tr>\n",
       "      <th>5</th>\n",
       "      <td>1</td>\n",
       "      <td>distance</td>\n",
       "      <td>0.822962</td>\n",
       "      <td>0.052379</td>\n",
       "      <td>0.186824</td>\n",
       "    </tr>\n",
       "    <tr>\n",
       "      <th>6</th>\n",
       "      <td>1</td>\n",
       "      <td>hscrat</td>\n",
       "      <td>0.473930</td>\n",
       "      <td>0.017420</td>\n",
       "      <td>0.535396</td>\n",
       "    </tr>\n",
       "    <tr>\n",
       "      <th>7</th>\n",
       "      <td>1</td>\n",
       "      <td>Insta_Y</td>\n",
       "      <td>0.782087</td>\n",
       "      <td>0.104512</td>\n",
       "      <td>0.243345</td>\n",
       "    </tr>\n",
       "    <tr>\n",
       "      <th>8</th>\n",
       "      <td>1</td>\n",
       "      <td>sex</td>\n",
       "      <td>0.031336</td>\n",
       "      <td>0.006247</td>\n",
       "      <td>0.974754</td>\n",
       "    </tr>\n",
       "    <tr>\n",
       "      <th>9</th>\n",
       "      <td>2</td>\n",
       "      <td>mailq</td>\n",
       "      <td>0.636749</td>\n",
       "      <td>0.059208</td>\n",
       "      <td>0.386112</td>\n",
       "    </tr>\n",
       "    <tr>\n",
       "      <th>10</th>\n",
       "      <td>2</td>\n",
       "      <td>TRAVEL_INIT_CNTCTS</td>\n",
       "      <td>0.684462</td>\n",
       "      <td>0.056301</td>\n",
       "      <td>0.334363</td>\n",
       "    </tr>\n",
       "    <tr>\n",
       "      <th>11</th>\n",
       "      <td>2</td>\n",
       "      <td>init_span</td>\n",
       "      <td>0.358276</td>\n",
       "      <td>0.080279</td>\n",
       "      <td>0.697738</td>\n",
       "    </tr>\n",
       "    <tr>\n",
       "      <th>12</th>\n",
       "      <td>3</td>\n",
       "      <td>satscore</td>\n",
       "      <td>0.603147</td>\n",
       "      <td>0.023629</td>\n",
       "      <td>0.406458</td>\n",
       "    </tr>\n",
       "    <tr>\n",
       "      <th>13</th>\n",
       "      <td>3</td>\n",
       "      <td>SOLICITED_CNTCTS</td>\n",
       "      <td>0.493277</td>\n",
       "      <td>0.072247</td>\n",
       "      <td>0.546183</td>\n",
       "    </tr>\n",
       "    <tr>\n",
       "      <th>14</th>\n",
       "      <td>3</td>\n",
       "      <td>CAMPUS_VISIT</td>\n",
       "      <td>0.145834</td>\n",
       "      <td>0.017805</td>\n",
       "      <td>0.869651</td>\n",
       "    </tr>\n",
       "    <tr>\n",
       "      <th>15</th>\n",
       "      <td>4</td>\n",
       "      <td>avg_income</td>\n",
       "      <td>0.026433</td>\n",
       "      <td>0.002074</td>\n",
       "      <td>0.975590</td>\n",
       "    </tr>\n",
       "    <tr>\n",
       "      <th>16</th>\n",
       "      <td>4</td>\n",
       "      <td>int1rat</td>\n",
       "      <td>0.547420</td>\n",
       "      <td>0.041658</td>\n",
       "      <td>0.472253</td>\n",
       "    </tr>\n",
       "    <tr>\n",
       "      <th>17</th>\n",
       "      <td>4</td>\n",
       "      <td>int2rat</td>\n",
       "      <td>0.551646</td>\n",
       "      <td>0.041730</td>\n",
       "      <td>0.467879</td>\n",
       "    </tr>\n",
       "  </tbody>\n",
       "</table>\n",
       "</div>"
      ],
      "text/plain": [
       "   Cluster            Variable    RS_Own     RS_NC  RS_Ratio\n",
       "0        0            premiere  0.508033  0.020367  0.502195\n",
       "1        0     REFERRAL_CNTCTS  0.045358  0.009347  0.963649\n",
       "2        0    SELF_INIT_CNTCTS  0.873615  0.067726  0.135566\n",
       "3        0              telecq  0.067003  0.000839  0.933781\n",
       "4        0      TOTAL_CONTACTS  0.880917  0.208829  0.150515\n",
       "5        1            distance  0.822962  0.052379  0.186824\n",
       "6        1              hscrat  0.473930  0.017420  0.535396\n",
       "7        1             Insta_Y  0.782087  0.104512  0.243345\n",
       "8        1                 sex  0.031336  0.006247  0.974754\n",
       "9        2               mailq  0.636749  0.059208  0.386112\n",
       "10       2  TRAVEL_INIT_CNTCTS  0.684462  0.056301  0.334363\n",
       "11       2           init_span  0.358276  0.080279  0.697738\n",
       "12       3            satscore  0.603147  0.023629  0.406458\n",
       "13       3    SOLICITED_CNTCTS  0.493277  0.072247  0.546183\n",
       "14       3        CAMPUS_VISIT  0.145834  0.017805  0.869651\n",
       "15       4          avg_income  0.026433  0.002074  0.975590\n",
       "16       4             int1rat  0.547420  0.041658  0.472253\n",
       "17       4             int2rat  0.551646  0.041730  0.467879"
      ]
     },
     "execution_count": 187,
     "metadata": {},
     "output_type": "execute_result"
    }
   ],
   "source": [
    "vc.rsquare"
   ]
  },
  {
   "cell_type": "code",
   "execution_count": 188,
   "metadata": {},
   "outputs": [],
   "source": [
    "RS=pd.DataFrame(vc.rsquare)"
   ]
  },
  {
   "cell_type": "code",
   "execution_count": 189,
   "metadata": {},
   "outputs": [],
   "source": [
    "RS['1-RSq_Ratio']=1-RS['RS_Ratio']"
   ]
  },
  {
   "cell_type": "code",
   "execution_count": 190,
   "metadata": {},
   "outputs": [
    {
     "data": {
      "text/html": [
       "<div>\n",
       "<style scoped>\n",
       "    .dataframe tbody tr th:only-of-type {\n",
       "        vertical-align: middle;\n",
       "    }\n",
       "\n",
       "    .dataframe tbody tr th {\n",
       "        vertical-align: top;\n",
       "    }\n",
       "\n",
       "    .dataframe thead th {\n",
       "        text-align: right;\n",
       "    }\n",
       "</style>\n",
       "<table border=\"1\" class=\"dataframe\">\n",
       "  <thead>\n",
       "    <tr style=\"text-align: right;\">\n",
       "      <th></th>\n",
       "      <th>Cluster</th>\n",
       "      <th>Variable</th>\n",
       "      <th>RS_Own</th>\n",
       "      <th>RS_NC</th>\n",
       "      <th>RS_Ratio</th>\n",
       "      <th>1-RSq_Ratio</th>\n",
       "    </tr>\n",
       "  </thead>\n",
       "  <tbody>\n",
       "    <tr>\n",
       "      <th>0</th>\n",
       "      <td>0</td>\n",
       "      <td>premiere</td>\n",
       "      <td>0.508033</td>\n",
       "      <td>0.020367</td>\n",
       "      <td>0.502195</td>\n",
       "      <td>0.497805</td>\n",
       "    </tr>\n",
       "    <tr>\n",
       "      <th>1</th>\n",
       "      <td>0</td>\n",
       "      <td>REFERRAL_CNTCTS</td>\n",
       "      <td>0.045358</td>\n",
       "      <td>0.009347</td>\n",
       "      <td>0.963649</td>\n",
       "      <td>0.036351</td>\n",
       "    </tr>\n",
       "    <tr>\n",
       "      <th>2</th>\n",
       "      <td>0</td>\n",
       "      <td>SELF_INIT_CNTCTS</td>\n",
       "      <td>0.873615</td>\n",
       "      <td>0.067726</td>\n",
       "      <td>0.135566</td>\n",
       "      <td>0.864434</td>\n",
       "    </tr>\n",
       "    <tr>\n",
       "      <th>3</th>\n",
       "      <td>0</td>\n",
       "      <td>telecq</td>\n",
       "      <td>0.067003</td>\n",
       "      <td>0.000839</td>\n",
       "      <td>0.933781</td>\n",
       "      <td>0.066219</td>\n",
       "    </tr>\n",
       "    <tr>\n",
       "      <th>4</th>\n",
       "      <td>0</td>\n",
       "      <td>TOTAL_CONTACTS</td>\n",
       "      <td>0.880917</td>\n",
       "      <td>0.208829</td>\n",
       "      <td>0.150515</td>\n",
       "      <td>0.849485</td>\n",
       "    </tr>\n",
       "    <tr>\n",
       "      <th>5</th>\n",
       "      <td>1</td>\n",
       "      <td>distance</td>\n",
       "      <td>0.822962</td>\n",
       "      <td>0.052379</td>\n",
       "      <td>0.186824</td>\n",
       "      <td>0.813176</td>\n",
       "    </tr>\n",
       "    <tr>\n",
       "      <th>6</th>\n",
       "      <td>1</td>\n",
       "      <td>hscrat</td>\n",
       "      <td>0.473930</td>\n",
       "      <td>0.017420</td>\n",
       "      <td>0.535396</td>\n",
       "      <td>0.464604</td>\n",
       "    </tr>\n",
       "    <tr>\n",
       "      <th>7</th>\n",
       "      <td>1</td>\n",
       "      <td>Insta_Y</td>\n",
       "      <td>0.782087</td>\n",
       "      <td>0.104512</td>\n",
       "      <td>0.243345</td>\n",
       "      <td>0.756655</td>\n",
       "    </tr>\n",
       "    <tr>\n",
       "      <th>8</th>\n",
       "      <td>1</td>\n",
       "      <td>sex</td>\n",
       "      <td>0.031336</td>\n",
       "      <td>0.006247</td>\n",
       "      <td>0.974754</td>\n",
       "      <td>0.025246</td>\n",
       "    </tr>\n",
       "    <tr>\n",
       "      <th>9</th>\n",
       "      <td>2</td>\n",
       "      <td>mailq</td>\n",
       "      <td>0.636749</td>\n",
       "      <td>0.059208</td>\n",
       "      <td>0.386112</td>\n",
       "      <td>0.613888</td>\n",
       "    </tr>\n",
       "    <tr>\n",
       "      <th>10</th>\n",
       "      <td>2</td>\n",
       "      <td>TRAVEL_INIT_CNTCTS</td>\n",
       "      <td>0.684462</td>\n",
       "      <td>0.056301</td>\n",
       "      <td>0.334363</td>\n",
       "      <td>0.665637</td>\n",
       "    </tr>\n",
       "    <tr>\n",
       "      <th>11</th>\n",
       "      <td>2</td>\n",
       "      <td>init_span</td>\n",
       "      <td>0.358276</td>\n",
       "      <td>0.080279</td>\n",
       "      <td>0.697738</td>\n",
       "      <td>0.302262</td>\n",
       "    </tr>\n",
       "    <tr>\n",
       "      <th>12</th>\n",
       "      <td>3</td>\n",
       "      <td>satscore</td>\n",
       "      <td>0.603147</td>\n",
       "      <td>0.023629</td>\n",
       "      <td>0.406458</td>\n",
       "      <td>0.593542</td>\n",
       "    </tr>\n",
       "    <tr>\n",
       "      <th>13</th>\n",
       "      <td>3</td>\n",
       "      <td>SOLICITED_CNTCTS</td>\n",
       "      <td>0.493277</td>\n",
       "      <td>0.072247</td>\n",
       "      <td>0.546183</td>\n",
       "      <td>0.453817</td>\n",
       "    </tr>\n",
       "    <tr>\n",
       "      <th>14</th>\n",
       "      <td>3</td>\n",
       "      <td>CAMPUS_VISIT</td>\n",
       "      <td>0.145834</td>\n",
       "      <td>0.017805</td>\n",
       "      <td>0.869651</td>\n",
       "      <td>0.130349</td>\n",
       "    </tr>\n",
       "    <tr>\n",
       "      <th>15</th>\n",
       "      <td>4</td>\n",
       "      <td>avg_income</td>\n",
       "      <td>0.026433</td>\n",
       "      <td>0.002074</td>\n",
       "      <td>0.975590</td>\n",
       "      <td>0.024410</td>\n",
       "    </tr>\n",
       "    <tr>\n",
       "      <th>16</th>\n",
       "      <td>4</td>\n",
       "      <td>int1rat</td>\n",
       "      <td>0.547420</td>\n",
       "      <td>0.041658</td>\n",
       "      <td>0.472253</td>\n",
       "      <td>0.527747</td>\n",
       "    </tr>\n",
       "    <tr>\n",
       "      <th>17</th>\n",
       "      <td>4</td>\n",
       "      <td>int2rat</td>\n",
       "      <td>0.551646</td>\n",
       "      <td>0.041730</td>\n",
       "      <td>0.467879</td>\n",
       "      <td>0.532121</td>\n",
       "    </tr>\n",
       "  </tbody>\n",
       "</table>\n",
       "</div>"
      ],
      "text/plain": [
       "   Cluster            Variable    RS_Own     RS_NC  RS_Ratio  1-RSq_Ratio\n",
       "0        0            premiere  0.508033  0.020367  0.502195     0.497805\n",
       "1        0     REFERRAL_CNTCTS  0.045358  0.009347  0.963649     0.036351\n",
       "2        0    SELF_INIT_CNTCTS  0.873615  0.067726  0.135566     0.864434\n",
       "3        0              telecq  0.067003  0.000839  0.933781     0.066219\n",
       "4        0      TOTAL_CONTACTS  0.880917  0.208829  0.150515     0.849485\n",
       "5        1            distance  0.822962  0.052379  0.186824     0.813176\n",
       "6        1              hscrat  0.473930  0.017420  0.535396     0.464604\n",
       "7        1             Insta_Y  0.782087  0.104512  0.243345     0.756655\n",
       "8        1                 sex  0.031336  0.006247  0.974754     0.025246\n",
       "9        2               mailq  0.636749  0.059208  0.386112     0.613888\n",
       "10       2  TRAVEL_INIT_CNTCTS  0.684462  0.056301  0.334363     0.665637\n",
       "11       2           init_span  0.358276  0.080279  0.697738     0.302262\n",
       "12       3            satscore  0.603147  0.023629  0.406458     0.593542\n",
       "13       3    SOLICITED_CNTCTS  0.493277  0.072247  0.546183     0.453817\n",
       "14       3        CAMPUS_VISIT  0.145834  0.017805  0.869651     0.130349\n",
       "15       4          avg_income  0.026433  0.002074  0.975590     0.024410\n",
       "16       4             int1rat  0.547420  0.041658  0.472253     0.527747\n",
       "17       4             int2rat  0.551646  0.041730  0.467879     0.532121"
      ]
     },
     "execution_count": 190,
     "metadata": {},
     "output_type": "execute_result"
    }
   ],
   "source": [
    "RS.head(18)"
   ]
  },
  {
   "cell_type": "code",
   "execution_count": 191,
   "metadata": {},
   "outputs": [],
   "source": [
    "#"
   ]
  },
  {
   "cell_type": "code",
   "execution_count": 192,
   "metadata": {},
   "outputs": [],
   "source": [
    "VC_x=lr_x.copy(deep=True)\n",
    "#VC_y=lr_y.copy(deep=True)"
   ]
  },
  {
   "cell_type": "code",
   "execution_count": 193,
   "metadata": {},
   "outputs": [
    {
     "data": {
      "text/html": [
       "<div>\n",
       "<style scoped>\n",
       "    .dataframe tbody tr th:only-of-type {\n",
       "        vertical-align: middle;\n",
       "    }\n",
       "\n",
       "    .dataframe tbody tr th {\n",
       "        vertical-align: top;\n",
       "    }\n",
       "\n",
       "    .dataframe thead th {\n",
       "        text-align: right;\n",
       "    }\n",
       "</style>\n",
       "<table border=\"1\" class=\"dataframe\">\n",
       "  <thead>\n",
       "    <tr style=\"text-align: right;\">\n",
       "      <th></th>\n",
       "      <th>PCA1</th>\n",
       "      <th>PCA2</th>\n",
       "      <th>PCA3</th>\n",
       "      <th>PCA4</th>\n",
       "      <th>PCA5</th>\n",
       "      <th>PCA6</th>\n",
       "      <th>Target</th>\n",
       "      <th>interest</th>\n",
       "      <th>C_Month_Aug</th>\n",
       "      <th>C_Month_Dec</th>\n",
       "      <th>...</th>\n",
       "      <th>CDate_22</th>\n",
       "      <th>CDate_23</th>\n",
       "      <th>CDate_24</th>\n",
       "      <th>CDate_25</th>\n",
       "      <th>CDate_26</th>\n",
       "      <th>CDate_27</th>\n",
       "      <th>CDate_28</th>\n",
       "      <th>CDate_29</th>\n",
       "      <th>CDate_30</th>\n",
       "      <th>CDate_31</th>\n",
       "    </tr>\n",
       "  </thead>\n",
       "  <tbody>\n",
       "    <tr>\n",
       "      <th>0</th>\n",
       "      <td>-2.544097</td>\n",
       "      <td>6.961730</td>\n",
       "      <td>-0.728693</td>\n",
       "      <td>1.575681</td>\n",
       "      <td>1.803301</td>\n",
       "      <td>0.455360</td>\n",
       "      <td>1</td>\n",
       "      <td>0</td>\n",
       "      <td>1</td>\n",
       "      <td>0</td>\n",
       "      <td>...</td>\n",
       "      <td>0</td>\n",
       "      <td>0</td>\n",
       "      <td>0</td>\n",
       "      <td>0</td>\n",
       "      <td>0</td>\n",
       "      <td>0</td>\n",
       "      <td>0</td>\n",
       "      <td>0</td>\n",
       "      <td>0</td>\n",
       "      <td>0</td>\n",
       "    </tr>\n",
       "    <tr>\n",
       "      <th>1</th>\n",
       "      <td>0.570534</td>\n",
       "      <td>4.441561</td>\n",
       "      <td>0.041031</td>\n",
       "      <td>2.090079</td>\n",
       "      <td>-0.475716</td>\n",
       "      <td>0.754291</td>\n",
       "      <td>1</td>\n",
       "      <td>2</td>\n",
       "      <td>0</td>\n",
       "      <td>0</td>\n",
       "      <td>...</td>\n",
       "      <td>0</td>\n",
       "      <td>0</td>\n",
       "      <td>0</td>\n",
       "      <td>0</td>\n",
       "      <td>0</td>\n",
       "      <td>0</td>\n",
       "      <td>0</td>\n",
       "      <td>0</td>\n",
       "      <td>0</td>\n",
       "      <td>0</td>\n",
       "    </tr>\n",
       "    <tr>\n",
       "      <th>2</th>\n",
       "      <td>-3.491093</td>\n",
       "      <td>4.773035</td>\n",
       "      <td>-0.253470</td>\n",
       "      <td>0.699740</td>\n",
       "      <td>-1.630159</td>\n",
       "      <td>-0.332043</td>\n",
       "      <td>1</td>\n",
       "      <td>0</td>\n",
       "      <td>0</td>\n",
       "      <td>0</td>\n",
       "      <td>...</td>\n",
       "      <td>0</td>\n",
       "      <td>0</td>\n",
       "      <td>0</td>\n",
       "      <td>0</td>\n",
       "      <td>0</td>\n",
       "      <td>1</td>\n",
       "      <td>0</td>\n",
       "      <td>0</td>\n",
       "      <td>0</td>\n",
       "      <td>0</td>\n",
       "    </tr>\n",
       "    <tr>\n",
       "      <th>3</th>\n",
       "      <td>-0.950742</td>\n",
       "      <td>7.124113</td>\n",
       "      <td>0.127654</td>\n",
       "      <td>1.001906</td>\n",
       "      <td>-0.170634</td>\n",
       "      <td>2.154710</td>\n",
       "      <td>1</td>\n",
       "      <td>1</td>\n",
       "      <td>0</td>\n",
       "      <td>0</td>\n",
       "      <td>...</td>\n",
       "      <td>0</td>\n",
       "      <td>1</td>\n",
       "      <td>0</td>\n",
       "      <td>0</td>\n",
       "      <td>0</td>\n",
       "      <td>0</td>\n",
       "      <td>0</td>\n",
       "      <td>0</td>\n",
       "      <td>0</td>\n",
       "      <td>0</td>\n",
       "    </tr>\n",
       "    <tr>\n",
       "      <th>4</th>\n",
       "      <td>-0.160667</td>\n",
       "      <td>5.011619</td>\n",
       "      <td>0.086328</td>\n",
       "      <td>-0.271832</td>\n",
       "      <td>1.019800</td>\n",
       "      <td>-2.315004</td>\n",
       "      <td>1</td>\n",
       "      <td>0</td>\n",
       "      <td>0</td>\n",
       "      <td>0</td>\n",
       "      <td>...</td>\n",
       "      <td>0</td>\n",
       "      <td>0</td>\n",
       "      <td>0</td>\n",
       "      <td>0</td>\n",
       "      <td>0</td>\n",
       "      <td>0</td>\n",
       "      <td>0</td>\n",
       "      <td>0</td>\n",
       "      <td>0</td>\n",
       "      <td>0</td>\n",
       "    </tr>\n",
       "  </tbody>\n",
       "</table>\n",
       "<p>5 rows × 136 columns</p>\n",
       "</div>"
      ],
      "text/plain": [
       "       PCA1      PCA2      PCA3      PCA4      PCA5      PCA6  Target  \\\n",
       "0 -2.544097  6.961730 -0.728693  1.575681  1.803301  0.455360       1   \n",
       "1  0.570534  4.441561  0.041031  2.090079 -0.475716  0.754291       1   \n",
       "2 -3.491093  4.773035 -0.253470  0.699740 -1.630159 -0.332043       1   \n",
       "3 -0.950742  7.124113  0.127654  1.001906 -0.170634  2.154710       1   \n",
       "4 -0.160667  5.011619  0.086328 -0.271832  1.019800 -2.315004       1   \n",
       "\n",
       "   interest  C_Month_Aug  C_Month_Dec    ...     CDate_22  CDate_23  CDate_24  \\\n",
       "0         0            1            0    ...            0         0         0   \n",
       "1         2            0            0    ...            0         0         0   \n",
       "2         0            0            0    ...            0         0         0   \n",
       "3         1            0            0    ...            0         1         0   \n",
       "4         0            0            0    ...            0         0         0   \n",
       "\n",
       "   CDate_25  CDate_26  CDate_27  CDate_28  CDate_29  CDate_30  CDate_31  \n",
       "0         0         0         0         0         0         0         0  \n",
       "1         0         0         0         0         0         0         0  \n",
       "2         0         0         1         0         0         0         0  \n",
       "3         0         0         0         0         0         0         0  \n",
       "4         0         0         0         0         0         0         0  \n",
       "\n",
       "[5 rows x 136 columns]"
      ]
     },
     "execution_count": 193,
     "metadata": {},
     "output_type": "execute_result"
    }
   ],
   "source": [
    "VC_x.head()"
   ]
  },
  {
   "cell_type": "code",
   "execution_count": 194,
   "metadata": {},
   "outputs": [],
   "source": [
    "VC_x.drop(['PCA1','PCA2','PCA3','PCA4','PCA5','PCA6'],axis=1,inplace=True)"
   ]
  },
  {
   "cell_type": "code",
   "execution_count": 195,
   "metadata": {},
   "outputs": [],
   "source": [
    "vc_df=df_pca_x.copy(deep=True)"
   ]
  },
  {
   "cell_type": "code",
   "execution_count": 196,
   "metadata": {},
   "outputs": [
    {
     "data": {
      "text/html": [
       "<div>\n",
       "<style scoped>\n",
       "    .dataframe tbody tr th:only-of-type {\n",
       "        vertical-align: middle;\n",
       "    }\n",
       "\n",
       "    .dataframe tbody tr th {\n",
       "        vertical-align: top;\n",
       "    }\n",
       "\n",
       "    .dataframe thead th {\n",
       "        text-align: right;\n",
       "    }\n",
       "</style>\n",
       "<table border=\"1\" class=\"dataframe\">\n",
       "  <thead>\n",
       "    <tr style=\"text-align: right;\">\n",
       "      <th></th>\n",
       "      <th>avg_income</th>\n",
       "      <th>CAMPUS_VISIT</th>\n",
       "      <th>distance</th>\n",
       "      <th>hscrat</th>\n",
       "      <th>init_span</th>\n",
       "      <th>int1rat</th>\n",
       "      <th>int2rat</th>\n",
       "      <th>mailq</th>\n",
       "      <th>premiere</th>\n",
       "      <th>REFERRAL_CNTCTS</th>\n",
       "      <th>satscore</th>\n",
       "      <th>SELF_INIT_CNTCTS</th>\n",
       "      <th>sex</th>\n",
       "      <th>SOLICITED_CNTCTS</th>\n",
       "      <th>telecq</th>\n",
       "      <th>TOTAL_CONTACTS</th>\n",
       "      <th>TRAVEL_INIT_CNTCTS</th>\n",
       "      <th>Insta_Y</th>\n",
       "    </tr>\n",
       "  </thead>\n",
       "  <tbody>\n",
       "    <tr>\n",
       "      <th>103</th>\n",
       "      <td>129811.0</td>\n",
       "      <td>1</td>\n",
       "      <td>1619.280260</td>\n",
       "      <td>1.000000</td>\n",
       "      <td>13</td>\n",
       "      <td>0.012870</td>\n",
       "      <td>0.047619</td>\n",
       "      <td>5</td>\n",
       "      <td>0</td>\n",
       "      <td>0</td>\n",
       "      <td>1300.0</td>\n",
       "      <td>6</td>\n",
       "      <td>1.0</td>\n",
       "      <td>0</td>\n",
       "      <td>2.0</td>\n",
       "      <td>6</td>\n",
       "      <td>0</td>\n",
       "      <td>0</td>\n",
       "    </tr>\n",
       "    <tr>\n",
       "      <th>104</th>\n",
       "      <td>71174.0</td>\n",
       "      <td>1</td>\n",
       "      <td>1606.402312</td>\n",
       "      <td>0.333333</td>\n",
       "      <td>19</td>\n",
       "      <td>0.029188</td>\n",
       "      <td>0.200000</td>\n",
       "      <td>5</td>\n",
       "      <td>1</td>\n",
       "      <td>0</td>\n",
       "      <td>1120.0</td>\n",
       "      <td>8</td>\n",
       "      <td>1.0</td>\n",
       "      <td>1</td>\n",
       "      <td>2.0</td>\n",
       "      <td>10</td>\n",
       "      <td>1</td>\n",
       "      <td>0</td>\n",
       "    </tr>\n",
       "    <tr>\n",
       "      <th>106</th>\n",
       "      <td>50879.0</td>\n",
       "      <td>0</td>\n",
       "      <td>1641.800269</td>\n",
       "      <td>0.500000</td>\n",
       "      <td>11</td>\n",
       "      <td>0.017183</td>\n",
       "      <td>0.020380</td>\n",
       "      <td>5</td>\n",
       "      <td>0</td>\n",
       "      <td>0</td>\n",
       "      <td>1070.0</td>\n",
       "      <td>4</td>\n",
       "      <td>1.0</td>\n",
       "      <td>0</td>\n",
       "      <td>2.0</td>\n",
       "      <td>4</td>\n",
       "      <td>0</td>\n",
       "      <td>0</td>\n",
       "    </tr>\n",
       "    <tr>\n",
       "      <th>114</th>\n",
       "      <td>36318.0</td>\n",
       "      <td>1</td>\n",
       "      <td>1659.508194</td>\n",
       "      <td>1.000000</td>\n",
       "      <td>14</td>\n",
       "      <td>0.100478</td>\n",
       "      <td>0.011236</td>\n",
       "      <td>5</td>\n",
       "      <td>0</td>\n",
       "      <td>0</td>\n",
       "      <td>1310.0</td>\n",
       "      <td>9</td>\n",
       "      <td>1.0</td>\n",
       "      <td>1</td>\n",
       "      <td>2.0</td>\n",
       "      <td>10</td>\n",
       "      <td>0</td>\n",
       "      <td>0</td>\n",
       "    </tr>\n",
       "    <tr>\n",
       "      <th>127</th>\n",
       "      <td>103326.0</td>\n",
       "      <td>0</td>\n",
       "      <td>1409.551978</td>\n",
       "      <td>0.500000</td>\n",
       "      <td>32</td>\n",
       "      <td>0.012116</td>\n",
       "      <td>0.030612</td>\n",
       "      <td>3</td>\n",
       "      <td>1</td>\n",
       "      <td>0</td>\n",
       "      <td>1300.0</td>\n",
       "      <td>8</td>\n",
       "      <td>0.0</td>\n",
       "      <td>0</td>\n",
       "      <td>2.0</td>\n",
       "      <td>8</td>\n",
       "      <td>0</td>\n",
       "      <td>0</td>\n",
       "    </tr>\n",
       "  </tbody>\n",
       "</table>\n",
       "</div>"
      ],
      "text/plain": [
       "     avg_income  CAMPUS_VISIT     distance    hscrat  init_span   int1rat  \\\n",
       "103    129811.0             1  1619.280260  1.000000         13  0.012870   \n",
       "104     71174.0             1  1606.402312  0.333333         19  0.029188   \n",
       "106     50879.0             0  1641.800269  0.500000         11  0.017183   \n",
       "114     36318.0             1  1659.508194  1.000000         14  0.100478   \n",
       "127    103326.0             0  1409.551978  0.500000         32  0.012116   \n",
       "\n",
       "      int2rat  mailq  premiere  REFERRAL_CNTCTS  satscore  SELF_INIT_CNTCTS  \\\n",
       "103  0.047619      5         0                0    1300.0                 6   \n",
       "104  0.200000      5         1                0    1120.0                 8   \n",
       "106  0.020380      5         0                0    1070.0                 4   \n",
       "114  0.011236      5         0                0    1310.0                 9   \n",
       "127  0.030612      3         1                0    1300.0                 8   \n",
       "\n",
       "     sex  SOLICITED_CNTCTS  telecq  TOTAL_CONTACTS  TRAVEL_INIT_CNTCTS  \\\n",
       "103  1.0                 0     2.0               6                   0   \n",
       "104  1.0                 1     2.0              10                   1   \n",
       "106  1.0                 0     2.0               4                   0   \n",
       "114  1.0                 1     2.0              10                   0   \n",
       "127  0.0                 0     2.0               8                   0   \n",
       "\n",
       "     Insta_Y  \n",
       "103        0  \n",
       "104        0  \n",
       "106        0  \n",
       "114        0  \n",
       "127        0  "
      ]
     },
     "execution_count": 196,
     "metadata": {},
     "output_type": "execute_result"
    }
   ],
   "source": [
    "vc_df.head()"
   ]
  },
  {
   "cell_type": "code",
   "execution_count": 197,
   "metadata": {},
   "outputs": [],
   "source": [
    "vc_df.drop(['premiere', 'distance', 'hscrat','int1rat', 'int2rat', 'mailq', \n",
    "            'satscore', 'SELF_INIT_CNTCTS',  'SOLICITED_CNTCTS', \n",
    "            'telecq','TOTAL_CONTACTS', 'TRAVEL_INIT_CNTCTS', 'Insta_Y'],axis=1,inplace=True)"
   ]
  },
  {
   "cell_type": "code",
   "execution_count": 198,
   "metadata": {},
   "outputs": [
    {
     "data": {
      "text/html": [
       "<div>\n",
       "<style scoped>\n",
       "    .dataframe tbody tr th:only-of-type {\n",
       "        vertical-align: middle;\n",
       "    }\n",
       "\n",
       "    .dataframe tbody tr th {\n",
       "        vertical-align: top;\n",
       "    }\n",
       "\n",
       "    .dataframe thead th {\n",
       "        text-align: right;\n",
       "    }\n",
       "</style>\n",
       "<table border=\"1\" class=\"dataframe\">\n",
       "  <thead>\n",
       "    <tr style=\"text-align: right;\">\n",
       "      <th></th>\n",
       "      <th>avg_income</th>\n",
       "      <th>CAMPUS_VISIT</th>\n",
       "      <th>init_span</th>\n",
       "      <th>REFERRAL_CNTCTS</th>\n",
       "      <th>sex</th>\n",
       "    </tr>\n",
       "  </thead>\n",
       "  <tbody>\n",
       "    <tr>\n",
       "      <th>103</th>\n",
       "      <td>129811.0</td>\n",
       "      <td>1</td>\n",
       "      <td>13</td>\n",
       "      <td>0</td>\n",
       "      <td>1.0</td>\n",
       "    </tr>\n",
       "    <tr>\n",
       "      <th>104</th>\n",
       "      <td>71174.0</td>\n",
       "      <td>1</td>\n",
       "      <td>19</td>\n",
       "      <td>0</td>\n",
       "      <td>1.0</td>\n",
       "    </tr>\n",
       "    <tr>\n",
       "      <th>106</th>\n",
       "      <td>50879.0</td>\n",
       "      <td>0</td>\n",
       "      <td>11</td>\n",
       "      <td>0</td>\n",
       "      <td>1.0</td>\n",
       "    </tr>\n",
       "    <tr>\n",
       "      <th>114</th>\n",
       "      <td>36318.0</td>\n",
       "      <td>1</td>\n",
       "      <td>14</td>\n",
       "      <td>0</td>\n",
       "      <td>1.0</td>\n",
       "    </tr>\n",
       "    <tr>\n",
       "      <th>127</th>\n",
       "      <td>103326.0</td>\n",
       "      <td>0</td>\n",
       "      <td>32</td>\n",
       "      <td>0</td>\n",
       "      <td>0.0</td>\n",
       "    </tr>\n",
       "  </tbody>\n",
       "</table>\n",
       "</div>"
      ],
      "text/plain": [
       "     avg_income  CAMPUS_VISIT  init_span  REFERRAL_CNTCTS  sex\n",
       "103    129811.0             1         13                0  1.0\n",
       "104     71174.0             1         19                0  1.0\n",
       "106     50879.0             0         11                0  1.0\n",
       "114     36318.0             1         14                0  1.0\n",
       "127    103326.0             0         32                0  0.0"
      ]
     },
     "execution_count": 198,
     "metadata": {},
     "output_type": "execute_result"
    }
   ],
   "source": [
    "vc_df.head()"
   ]
  },
  {
   "cell_type": "code",
   "execution_count": 199,
   "metadata": {},
   "outputs": [],
   "source": [
    "VC_model = pd.concat([VC_x.reset_index(drop=True), vc_df.reset_index(drop=True)], axis=1)"
   ]
  },
  {
   "cell_type": "code",
   "execution_count": 200,
   "metadata": {},
   "outputs": [
    {
     "data": {
      "text/html": [
       "<div>\n",
       "<style scoped>\n",
       "    .dataframe tbody tr th:only-of-type {\n",
       "        vertical-align: middle;\n",
       "    }\n",
       "\n",
       "    .dataframe tbody tr th {\n",
       "        vertical-align: top;\n",
       "    }\n",
       "\n",
       "    .dataframe thead th {\n",
       "        text-align: right;\n",
       "    }\n",
       "</style>\n",
       "<table border=\"1\" class=\"dataframe\">\n",
       "  <thead>\n",
       "    <tr style=\"text-align: right;\">\n",
       "      <th></th>\n",
       "      <th>Target</th>\n",
       "      <th>interest</th>\n",
       "      <th>C_Month_Aug</th>\n",
       "      <th>C_Month_Dec</th>\n",
       "      <th>C_Month_Feb</th>\n",
       "      <th>C_Month_Jan</th>\n",
       "      <th>C_Month_Jul</th>\n",
       "      <th>C_Month_Jun</th>\n",
       "      <th>C_Month_Mar</th>\n",
       "      <th>C_Month_May</th>\n",
       "      <th>...</th>\n",
       "      <th>CDate_27</th>\n",
       "      <th>CDate_28</th>\n",
       "      <th>CDate_29</th>\n",
       "      <th>CDate_30</th>\n",
       "      <th>CDate_31</th>\n",
       "      <th>avg_income</th>\n",
       "      <th>CAMPUS_VISIT</th>\n",
       "      <th>init_span</th>\n",
       "      <th>REFERRAL_CNTCTS</th>\n",
       "      <th>sex</th>\n",
       "    </tr>\n",
       "  </thead>\n",
       "  <tbody>\n",
       "    <tr>\n",
       "      <th>0</th>\n",
       "      <td>1</td>\n",
       "      <td>0</td>\n",
       "      <td>1</td>\n",
       "      <td>0</td>\n",
       "      <td>0</td>\n",
       "      <td>0</td>\n",
       "      <td>0</td>\n",
       "      <td>0</td>\n",
       "      <td>0</td>\n",
       "      <td>0</td>\n",
       "      <td>...</td>\n",
       "      <td>0</td>\n",
       "      <td>0</td>\n",
       "      <td>0</td>\n",
       "      <td>0</td>\n",
       "      <td>0</td>\n",
       "      <td>129811.0</td>\n",
       "      <td>1</td>\n",
       "      <td>13</td>\n",
       "      <td>0</td>\n",
       "      <td>1.0</td>\n",
       "    </tr>\n",
       "    <tr>\n",
       "      <th>1</th>\n",
       "      <td>1</td>\n",
       "      <td>2</td>\n",
       "      <td>0</td>\n",
       "      <td>0</td>\n",
       "      <td>1</td>\n",
       "      <td>0</td>\n",
       "      <td>0</td>\n",
       "      <td>0</td>\n",
       "      <td>0</td>\n",
       "      <td>0</td>\n",
       "      <td>...</td>\n",
       "      <td>0</td>\n",
       "      <td>0</td>\n",
       "      <td>0</td>\n",
       "      <td>0</td>\n",
       "      <td>0</td>\n",
       "      <td>71174.0</td>\n",
       "      <td>1</td>\n",
       "      <td>19</td>\n",
       "      <td>0</td>\n",
       "      <td>1.0</td>\n",
       "    </tr>\n",
       "    <tr>\n",
       "      <th>2</th>\n",
       "      <td>1</td>\n",
       "      <td>0</td>\n",
       "      <td>0</td>\n",
       "      <td>0</td>\n",
       "      <td>0</td>\n",
       "      <td>0</td>\n",
       "      <td>0</td>\n",
       "      <td>0</td>\n",
       "      <td>0</td>\n",
       "      <td>0</td>\n",
       "      <td>...</td>\n",
       "      <td>1</td>\n",
       "      <td>0</td>\n",
       "      <td>0</td>\n",
       "      <td>0</td>\n",
       "      <td>0</td>\n",
       "      <td>50879.0</td>\n",
       "      <td>0</td>\n",
       "      <td>11</td>\n",
       "      <td>0</td>\n",
       "      <td>1.0</td>\n",
       "    </tr>\n",
       "    <tr>\n",
       "      <th>3</th>\n",
       "      <td>1</td>\n",
       "      <td>1</td>\n",
       "      <td>0</td>\n",
       "      <td>0</td>\n",
       "      <td>0</td>\n",
       "      <td>0</td>\n",
       "      <td>1</td>\n",
       "      <td>0</td>\n",
       "      <td>0</td>\n",
       "      <td>0</td>\n",
       "      <td>...</td>\n",
       "      <td>0</td>\n",
       "      <td>0</td>\n",
       "      <td>0</td>\n",
       "      <td>0</td>\n",
       "      <td>0</td>\n",
       "      <td>36318.0</td>\n",
       "      <td>1</td>\n",
       "      <td>14</td>\n",
       "      <td>0</td>\n",
       "      <td>1.0</td>\n",
       "    </tr>\n",
       "    <tr>\n",
       "      <th>4</th>\n",
       "      <td>1</td>\n",
       "      <td>0</td>\n",
       "      <td>0</td>\n",
       "      <td>0</td>\n",
       "      <td>0</td>\n",
       "      <td>1</td>\n",
       "      <td>0</td>\n",
       "      <td>0</td>\n",
       "      <td>0</td>\n",
       "      <td>0</td>\n",
       "      <td>...</td>\n",
       "      <td>0</td>\n",
       "      <td>0</td>\n",
       "      <td>0</td>\n",
       "      <td>0</td>\n",
       "      <td>0</td>\n",
       "      <td>103326.0</td>\n",
       "      <td>0</td>\n",
       "      <td>32</td>\n",
       "      <td>0</td>\n",
       "      <td>0.0</td>\n",
       "    </tr>\n",
       "  </tbody>\n",
       "</table>\n",
       "<p>5 rows × 135 columns</p>\n",
       "</div>"
      ],
      "text/plain": [
       "   Target  interest  C_Month_Aug  C_Month_Dec  C_Month_Feb  C_Month_Jan  \\\n",
       "0       1         0            1            0            0            0   \n",
       "1       1         2            0            0            1            0   \n",
       "2       1         0            0            0            0            0   \n",
       "3       1         1            0            0            0            0   \n",
       "4       1         0            0            0            0            1   \n",
       "\n",
       "   C_Month_Jul  C_Month_Jun  C_Month_Mar  C_Month_May ...   CDate_27  \\\n",
       "0            0            0            0            0 ...          0   \n",
       "1            0            0            0            0 ...          0   \n",
       "2            0            0            0            0 ...          1   \n",
       "3            1            0            0            0 ...          0   \n",
       "4            0            0            0            0 ...          0   \n",
       "\n",
       "   CDate_28  CDate_29  CDate_30  CDate_31  avg_income  CAMPUS_VISIT  \\\n",
       "0         0         0         0         0    129811.0             1   \n",
       "1         0         0         0         0     71174.0             1   \n",
       "2         0         0         0         0     50879.0             0   \n",
       "3         0         0         0         0     36318.0             1   \n",
       "4         0         0         0         0    103326.0             0   \n",
       "\n",
       "   init_span  REFERRAL_CNTCTS  sex  \n",
       "0         13                0  1.0  \n",
       "1         19                0  1.0  \n",
       "2         11                0  1.0  \n",
       "3         14                0  1.0  \n",
       "4         32                0  0.0  \n",
       "\n",
       "[5 rows x 135 columns]"
      ]
     },
     "execution_count": 200,
     "metadata": {},
     "output_type": "execute_result"
    }
   ],
   "source": [
    "VC_model.head()"
   ]
  },
  {
   "cell_type": "code",
   "execution_count": 201,
   "metadata": {},
   "outputs": [],
   "source": [
    "#DataPartition\n",
    "df_x_train_vc, df_x_val_vc, df_y_train_vc, df_y_val_vc= train_test_split(VC_model[VC_model.columns[~VC_model.columns.isin(['Target'])]],\n",
    "                                                VC_model['Target'],test_size=0.30, random_state=12345)"
   ]
  },
  {
   "cell_type": "code",
   "execution_count": 202,
   "metadata": {},
   "outputs": [
    {
     "name": "stderr",
     "output_type": "stream",
     "text": [
      "/Users/HM/anaconda3/lib/python3.7/site-packages/sklearn/linear_model/logistic.py:433: FutureWarning: Default solver will be changed to 'lbfgs' in 0.22. Specify a solver to silence this warning.\n",
      "  FutureWarning)\n"
     ]
    }
   ],
   "source": [
    "lr_3 = lr(df_x_train_vc, df_y_train_vc)"
   ]
  },
  {
   "cell_type": "code",
   "execution_count": 203,
   "metadata": {},
   "outputs": [],
   "source": [
    "acc3_train=accuracy(lr_3,df_x_train_vc,df_y_train_vc)"
   ]
  },
  {
   "cell_type": "code",
   "execution_count": 204,
   "metadata": {},
   "outputs": [
    {
     "data": {
      "text/plain": [
       "0.8697478991596639"
      ]
     },
     "execution_count": 204,
     "metadata": {},
     "output_type": "execute_result"
    }
   ],
   "source": [
    "acc3_train"
   ]
  },
  {
   "cell_type": "code",
   "execution_count": 205,
   "metadata": {},
   "outputs": [],
   "source": [
    "acc3_val=accuracy(lr_3,df_x_val_vc,df_y_val_vc)"
   ]
  },
  {
   "cell_type": "code",
   "execution_count": 206,
   "metadata": {},
   "outputs": [
    {
     "data": {
      "text/plain": [
       "0.863013698630137"
      ]
     },
     "execution_count": 206,
     "metadata": {},
     "output_type": "execute_result"
    }
   ],
   "source": [
    "acc3_val"
   ]
  },
  {
   "cell_type": "code",
   "execution_count": 207,
   "metadata": {},
   "outputs": [],
   "source": [
    "#Ques4"
   ]
  },
  {
   "cell_type": "code",
   "execution_count": 208,
   "metadata": {},
   "outputs": [],
   "source": [
    "df4 = data.copy(deep=True)"
   ]
  },
  {
   "cell_type": "code",
   "execution_count": 209,
   "metadata": {},
   "outputs": [],
   "source": [
    "df4.drop(['ID','LEVEL_YEAR','IRSCHOOL'],axis=1, inplace=True)"
   ]
  },
  {
   "cell_type": "code",
   "execution_count": 210,
   "metadata": {},
   "outputs": [],
   "source": [
    "df4['Instate']=np.where(df4['Instate']=='Y',1,0)"
   ]
  },
  {
   "cell_type": "code",
   "execution_count": 211,
   "metadata": {},
   "outputs": [
    {
     "data": {
      "text/plain": [
       "(1701, 26)"
      ]
     },
     "execution_count": 211,
     "metadata": {},
     "output_type": "execute_result"
    }
   ],
   "source": [
    "df4.shape"
   ]
  },
  {
   "cell_type": "code",
   "execution_count": 212,
   "metadata": {},
   "outputs": [],
   "source": [
    "df4.to_csv(\"/Users/HM/Desktop/BAN5753/Exercises/Exercise6/R_Enroll.csv\",index=False)"
   ]
  },
  {
   "cell_type": "code",
   "execution_count": 213,
   "metadata": {},
   "outputs": [],
   "source": [
    "df_pls=df.drop(['hscrat','int1rat', 'int2rat','premiere', 'REFERRAL_CNTCTS', 'satscore', 'sex','TRAVEL_INIT_CNTCTS'],axis=1)"
   ]
  },
  {
   "cell_type": "code",
   "execution_count": 215,
   "metadata": {},
   "outputs": [
    {
     "data": {
      "text/html": [
       "<div>\n",
       "<style scoped>\n",
       "    .dataframe tbody tr th:only-of-type {\n",
       "        vertical-align: middle;\n",
       "    }\n",
       "\n",
       "    .dataframe tbody tr th {\n",
       "        vertical-align: top;\n",
       "    }\n",
       "\n",
       "    .dataframe thead th {\n",
       "        text-align: right;\n",
       "    }\n",
       "</style>\n",
       "<table border=\"1\" class=\"dataframe\">\n",
       "  <thead>\n",
       "    <tr style=\"text-align: right;\">\n",
       "      <th></th>\n",
       "      <th>avg_income</th>\n",
       "      <th>CAMPUS_VISIT</th>\n",
       "      <th>distance</th>\n",
       "      <th>Target</th>\n",
       "      <th>init_span</th>\n",
       "      <th>interest</th>\n",
       "      <th>mailq</th>\n",
       "      <th>SELF_INIT_CNTCTS</th>\n",
       "      <th>SOLICITED_CNTCTS</th>\n",
       "      <th>telecq</th>\n",
       "      <th>...</th>\n",
       "      <th>CDate_22</th>\n",
       "      <th>CDate_23</th>\n",
       "      <th>CDate_24</th>\n",
       "      <th>CDate_25</th>\n",
       "      <th>CDate_26</th>\n",
       "      <th>CDate_27</th>\n",
       "      <th>CDate_28</th>\n",
       "      <th>CDate_29</th>\n",
       "      <th>CDate_30</th>\n",
       "      <th>CDate_31</th>\n",
       "    </tr>\n",
       "  </thead>\n",
       "  <tbody>\n",
       "    <tr>\n",
       "      <th>103</th>\n",
       "      <td>129811.0</td>\n",
       "      <td>1</td>\n",
       "      <td>1619.280260</td>\n",
       "      <td>1</td>\n",
       "      <td>13</td>\n",
       "      <td>0</td>\n",
       "      <td>5</td>\n",
       "      <td>6</td>\n",
       "      <td>0</td>\n",
       "      <td>2.0</td>\n",
       "      <td>...</td>\n",
       "      <td>0</td>\n",
       "      <td>0</td>\n",
       "      <td>0</td>\n",
       "      <td>0</td>\n",
       "      <td>0</td>\n",
       "      <td>0</td>\n",
       "      <td>0</td>\n",
       "      <td>0</td>\n",
       "      <td>0</td>\n",
       "      <td>0</td>\n",
       "    </tr>\n",
       "    <tr>\n",
       "      <th>104</th>\n",
       "      <td>71174.0</td>\n",
       "      <td>1</td>\n",
       "      <td>1606.402312</td>\n",
       "      <td>1</td>\n",
       "      <td>19</td>\n",
       "      <td>2</td>\n",
       "      <td>5</td>\n",
       "      <td>8</td>\n",
       "      <td>1</td>\n",
       "      <td>2.0</td>\n",
       "      <td>...</td>\n",
       "      <td>0</td>\n",
       "      <td>0</td>\n",
       "      <td>0</td>\n",
       "      <td>0</td>\n",
       "      <td>0</td>\n",
       "      <td>0</td>\n",
       "      <td>0</td>\n",
       "      <td>0</td>\n",
       "      <td>0</td>\n",
       "      <td>0</td>\n",
       "    </tr>\n",
       "    <tr>\n",
       "      <th>106</th>\n",
       "      <td>50879.0</td>\n",
       "      <td>0</td>\n",
       "      <td>1641.800269</td>\n",
       "      <td>1</td>\n",
       "      <td>11</td>\n",
       "      <td>0</td>\n",
       "      <td>5</td>\n",
       "      <td>4</td>\n",
       "      <td>0</td>\n",
       "      <td>2.0</td>\n",
       "      <td>...</td>\n",
       "      <td>0</td>\n",
       "      <td>0</td>\n",
       "      <td>0</td>\n",
       "      <td>0</td>\n",
       "      <td>0</td>\n",
       "      <td>1</td>\n",
       "      <td>0</td>\n",
       "      <td>0</td>\n",
       "      <td>0</td>\n",
       "      <td>0</td>\n",
       "    </tr>\n",
       "    <tr>\n",
       "      <th>114</th>\n",
       "      <td>36318.0</td>\n",
       "      <td>1</td>\n",
       "      <td>1659.508194</td>\n",
       "      <td>1</td>\n",
       "      <td>14</td>\n",
       "      <td>1</td>\n",
       "      <td>5</td>\n",
       "      <td>9</td>\n",
       "      <td>1</td>\n",
       "      <td>2.0</td>\n",
       "      <td>...</td>\n",
       "      <td>0</td>\n",
       "      <td>1</td>\n",
       "      <td>0</td>\n",
       "      <td>0</td>\n",
       "      <td>0</td>\n",
       "      <td>0</td>\n",
       "      <td>0</td>\n",
       "      <td>0</td>\n",
       "      <td>0</td>\n",
       "      <td>0</td>\n",
       "    </tr>\n",
       "    <tr>\n",
       "      <th>127</th>\n",
       "      <td>103326.0</td>\n",
       "      <td>0</td>\n",
       "      <td>1409.551978</td>\n",
       "      <td>1</td>\n",
       "      <td>32</td>\n",
       "      <td>0</td>\n",
       "      <td>3</td>\n",
       "      <td>8</td>\n",
       "      <td>0</td>\n",
       "      <td>2.0</td>\n",
       "      <td>...</td>\n",
       "      <td>0</td>\n",
       "      <td>0</td>\n",
       "      <td>0</td>\n",
       "      <td>0</td>\n",
       "      <td>0</td>\n",
       "      <td>0</td>\n",
       "      <td>0</td>\n",
       "      <td>0</td>\n",
       "      <td>0</td>\n",
       "      <td>0</td>\n",
       "    </tr>\n",
       "  </tbody>\n",
       "</table>\n",
       "<p>5 rows × 140 columns</p>\n",
       "</div>"
      ],
      "text/plain": [
       "     avg_income  CAMPUS_VISIT     distance  Target  init_span  interest  \\\n",
       "103    129811.0             1  1619.280260       1         13         0   \n",
       "104     71174.0             1  1606.402312       1         19         2   \n",
       "106     50879.0             0  1641.800269       1         11         0   \n",
       "114     36318.0             1  1659.508194       1         14         1   \n",
       "127    103326.0             0  1409.551978       1         32         0   \n",
       "\n",
       "     mailq  SELF_INIT_CNTCTS  SOLICITED_CNTCTS  telecq    ...     CDate_22  \\\n",
       "103      5                 6                 0     2.0    ...            0   \n",
       "104      5                 8                 1     2.0    ...            0   \n",
       "106      5                 4                 0     2.0    ...            0   \n",
       "114      5                 9                 1     2.0    ...            0   \n",
       "127      3                 8                 0     2.0    ...            0   \n",
       "\n",
       "     CDate_23  CDate_24  CDate_25  CDate_26  CDate_27  CDate_28  CDate_29  \\\n",
       "103         0         0         0         0         0         0         0   \n",
       "104         0         0         0         0         0         0         0   \n",
       "106         0         0         0         0         1         0         0   \n",
       "114         1         0         0         0         0         0         0   \n",
       "127         0         0         0         0         0         0         0   \n",
       "\n",
       "     CDate_30  CDate_31  \n",
       "103         0         0  \n",
       "104         0         0  \n",
       "106         0         0  \n",
       "114         0         0  \n",
       "127         0         0  \n",
       "\n",
       "[5 rows x 140 columns]"
      ]
     },
     "execution_count": 215,
     "metadata": {},
     "output_type": "execute_result"
    }
   ],
   "source": [
    "df_pls.head()"
   ]
  },
  {
   "cell_type": "code",
   "execution_count": 216,
   "metadata": {},
   "outputs": [],
   "source": [
    "df_x_train_pls, df_x_val_pls, df_y_train_pls, df_y_val_pls= train_test_split(df_pls[df_pls.columns[~df_pls.columns.isin(['Target'])]],\n",
    "                                                df_pls['Target'],test_size=0.30, random_state=12345)"
   ]
  },
  {
   "cell_type": "code",
   "execution_count": 217,
   "metadata": {},
   "outputs": [
    {
     "name": "stderr",
     "output_type": "stream",
     "text": [
      "/Users/HM/anaconda3/lib/python3.7/site-packages/sklearn/linear_model/logistic.py:433: FutureWarning: Default solver will be changed to 'lbfgs' in 0.22. Specify a solver to silence this warning.\n",
      "  FutureWarning)\n"
     ]
    }
   ],
   "source": [
    "lr_4 = lr(df_x_train_pls, df_y_train_pls)"
   ]
  },
  {
   "cell_type": "code",
   "execution_count": 219,
   "metadata": {},
   "outputs": [],
   "source": [
    "acc4_train=accuracy(lr_4,df_x_train_pls,df_y_train_pls)"
   ]
  },
  {
   "cell_type": "code",
   "execution_count": 220,
   "metadata": {},
   "outputs": [
    {
     "data": {
      "text/plain": [
       "0.8890756302521008"
      ]
     },
     "execution_count": 220,
     "metadata": {},
     "output_type": "execute_result"
    }
   ],
   "source": [
    "acc4_train"
   ]
  },
  {
   "cell_type": "code",
   "execution_count": 221,
   "metadata": {},
   "outputs": [],
   "source": [
    "acc4_val=accuracy(lr_4,df_x_val_pls,df_y_val_pls)"
   ]
  },
  {
   "cell_type": "code",
   "execution_count": 222,
   "metadata": {},
   "outputs": [
    {
     "data": {
      "text/plain": [
       "0.8825831702544031"
      ]
     },
     "execution_count": 222,
     "metadata": {},
     "output_type": "execute_result"
    }
   ],
   "source": [
    "acc4_val"
   ]
  },
  {
   "cell_type": "code",
   "execution_count": 223,
   "metadata": {},
   "outputs": [],
   "source": [
    "#Ques5"
   ]
  },
  {
   "cell_type": "code",
   "execution_count": 225,
   "metadata": {},
   "outputs": [],
   "source": [
    "df_lrs=df.drop(['avg_income', 'distance','init_span',\n",
    "           'int1rat', 'int2rat','mailq', 'REFERRAL_CNTCTS', 'sex','SOLICITED_CNTCTS','telecq','TRAVEL_INIT_CNTCTS'],axis=1)"
   ]
  },
  {
   "cell_type": "code",
   "execution_count": 226,
   "metadata": {},
   "outputs": [],
   "source": [
    "df_x_train_lrs, df_x_val_lrs, df_y_train_lrs, df_y_val_lrs= train_test_split(df_lrs[df_lrs.columns[~df_lrs.columns.isin(['Target'])]],\n",
    "                                                df_lrs['Target'],test_size=0.30, random_state=12345)"
   ]
  },
  {
   "cell_type": "code",
   "execution_count": 227,
   "metadata": {},
   "outputs": [
    {
     "name": "stderr",
     "output_type": "stream",
     "text": [
      "/Users/HM/anaconda3/lib/python3.7/site-packages/sklearn/linear_model/logistic.py:433: FutureWarning: Default solver will be changed to 'lbfgs' in 0.22. Specify a solver to silence this warning.\n",
      "  FutureWarning)\n"
     ]
    }
   ],
   "source": [
    "lr_5 = lr(df_x_train_lrs, df_y_train_lrs)"
   ]
  },
  {
   "cell_type": "code",
   "execution_count": 228,
   "metadata": {},
   "outputs": [],
   "source": [
    "acc5_train=accuracy(lr_5,df_x_train_lrs,df_y_train_lrs)"
   ]
  },
  {
   "cell_type": "code",
   "execution_count": 229,
   "metadata": {},
   "outputs": [
    {
     "data": {
      "text/plain": [
       "0.9050420168067227"
      ]
     },
     "execution_count": 229,
     "metadata": {},
     "output_type": "execute_result"
    }
   ],
   "source": [
    "acc5_train"
   ]
  },
  {
   "cell_type": "code",
   "execution_count": 230,
   "metadata": {},
   "outputs": [],
   "source": [
    "acc5_val=accuracy(lr_5,df_x_val_lrs,df_y_val_lrs)"
   ]
  },
  {
   "cell_type": "code",
   "execution_count": 231,
   "metadata": {},
   "outputs": [
    {
     "data": {
      "text/plain": [
       "0.9060665362035225"
      ]
     },
     "execution_count": 231,
     "metadata": {},
     "output_type": "execute_result"
    }
   ],
   "source": [
    "acc5_val"
   ]
  },
  {
   "cell_type": "code",
   "execution_count": null,
   "metadata": {},
   "outputs": [],
   "source": []
  }
 ],
 "metadata": {
  "kernelspec": {
   "display_name": "Python 3",
   "language": "python",
   "name": "python3"
  },
  "language_info": {
   "codemirror_mode": {
    "name": "ipython",
    "version": 3
   },
   "file_extension": ".py",
   "mimetype": "text/x-python",
   "name": "python",
   "nbconvert_exporter": "python",
   "pygments_lexer": "ipython3",
   "version": "3.7.1"
  }
 },
 "nbformat": 4,
 "nbformat_minor": 2
}
